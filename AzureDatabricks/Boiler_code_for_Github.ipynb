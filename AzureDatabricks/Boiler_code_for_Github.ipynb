{
  "nbformat": 4,
  "nbformat_minor": 0,
  "metadata": {
    "colab": {
      "provenance": [],
      "toc_visible": true,
      "authorship_tag": "ABX9TyOu31d1KT09kBjOJGv+vWoD",
      "include_colab_link": true
    },
    "kernelspec": {
      "name": "python3",
      "display_name": "Python 3"
    },
    "language_info": {
      "name": "python"
    }
  },
  "cells": [
    {
      "cell_type": "markdown",
      "metadata": {
        "id": "view-in-github",
        "colab_type": "text"
      },
      "source": [
        "<a href=\"https://colab.research.google.com/github/cooolbabu/GoogleGemini101/blob/testing_claude/AzureDatabricks/Boiler_code_for_Github.ipynb\" target=\"_parent\"><img src=\"https://colab.research.google.com/assets/colab-badge.svg\" alt=\"Open In Colab\"/></a>"
      ]
    },
    {
      "cell_type": "markdown",
      "source": [
        "# Package installs"
      ],
      "metadata": {
        "id": "awVI93fo_PXV"
      }
    },
    {
      "cell_type": "code",
      "source": [
        "%pip install anthropic\n",
        "%pip install PyGithub"
      ],
      "metadata": {
        "id": "SUckIMaorrfl",
        "outputId": "31276c04-464c-4e8b-8779-2dc6cba054d3",
        "colab": {
          "base_uri": "https://localhost:8080/"
        }
      },
      "execution_count": 1,
      "outputs": [
        {
          "output_type": "stream",
          "name": "stdout",
          "text": [
            "Collecting anthropic\n",
            "  Downloading anthropic-0.20.0-py3-none-any.whl (850 kB)\n",
            "\u001b[2K     \u001b[90m━━━━━━━━━━━━━━━━━━━━━━━━━━━━━━━━━━━━━━━━\u001b[0m \u001b[32m850.5/850.5 kB\u001b[0m \u001b[31m4.9 MB/s\u001b[0m eta \u001b[36m0:00:00\u001b[0m\n",
            "\u001b[?25hRequirement already satisfied: anyio<5,>=3.5.0 in /usr/local/lib/python3.10/dist-packages (from anthropic) (3.7.1)\n",
            "Requirement already satisfied: distro<2,>=1.7.0 in /usr/lib/python3/dist-packages (from anthropic) (1.7.0)\n",
            "Collecting httpx<1,>=0.23.0 (from anthropic)\n",
            "  Downloading httpx-0.27.0-py3-none-any.whl (75 kB)\n",
            "\u001b[2K     \u001b[90m━━━━━━━━━━━━━━━━━━━━━━━━━━━━━━━━━━━━━━━━\u001b[0m \u001b[32m75.6/75.6 kB\u001b[0m \u001b[31m2.2 MB/s\u001b[0m eta \u001b[36m0:00:00\u001b[0m\n",
            "\u001b[?25hRequirement already satisfied: pydantic<3,>=1.9.0 in /usr/local/lib/python3.10/dist-packages (from anthropic) (2.6.3)\n",
            "Requirement already satisfied: sniffio in /usr/local/lib/python3.10/dist-packages (from anthropic) (1.3.1)\n",
            "Requirement already satisfied: tokenizers>=0.13.0 in /usr/local/lib/python3.10/dist-packages (from anthropic) (0.15.2)\n",
            "Requirement already satisfied: typing-extensions<5,>=4.7 in /usr/local/lib/python3.10/dist-packages (from anthropic) (4.10.0)\n",
            "Requirement already satisfied: idna>=2.8 in /usr/local/lib/python3.10/dist-packages (from anyio<5,>=3.5.0->anthropic) (3.6)\n",
            "Requirement already satisfied: exceptiongroup in /usr/local/lib/python3.10/dist-packages (from anyio<5,>=3.5.0->anthropic) (1.2.0)\n",
            "Requirement already satisfied: certifi in /usr/local/lib/python3.10/dist-packages (from httpx<1,>=0.23.0->anthropic) (2024.2.2)\n",
            "Collecting httpcore==1.* (from httpx<1,>=0.23.0->anthropic)\n",
            "  Downloading httpcore-1.0.4-py3-none-any.whl (77 kB)\n",
            "\u001b[2K     \u001b[90m━━━━━━━━━━━━━━━━━━━━━━━━━━━━━━━━━━━━━━━━\u001b[0m \u001b[32m77.8/77.8 kB\u001b[0m \u001b[31m6.3 MB/s\u001b[0m eta \u001b[36m0:00:00\u001b[0m\n",
            "\u001b[?25hCollecting h11<0.15,>=0.13 (from httpcore==1.*->httpx<1,>=0.23.0->anthropic)\n",
            "  Downloading h11-0.14.0-py3-none-any.whl (58 kB)\n",
            "\u001b[2K     \u001b[90m━━━━━━━━━━━━━━━━━━━━━━━━━━━━━━━━━━━━━━━━\u001b[0m \u001b[32m58.3/58.3 kB\u001b[0m \u001b[31m5.3 MB/s\u001b[0m eta \u001b[36m0:00:00\u001b[0m\n",
            "\u001b[?25hRequirement already satisfied: annotated-types>=0.4.0 in /usr/local/lib/python3.10/dist-packages (from pydantic<3,>=1.9.0->anthropic) (0.6.0)\n",
            "Requirement already satisfied: pydantic-core==2.16.3 in /usr/local/lib/python3.10/dist-packages (from pydantic<3,>=1.9.0->anthropic) (2.16.3)\n",
            "Requirement already satisfied: huggingface_hub<1.0,>=0.16.4 in /usr/local/lib/python3.10/dist-packages (from tokenizers>=0.13.0->anthropic) (0.20.3)\n",
            "Requirement already satisfied: filelock in /usr/local/lib/python3.10/dist-packages (from huggingface_hub<1.0,>=0.16.4->tokenizers>=0.13.0->anthropic) (3.13.1)\n",
            "Requirement already satisfied: fsspec>=2023.5.0 in /usr/local/lib/python3.10/dist-packages (from huggingface_hub<1.0,>=0.16.4->tokenizers>=0.13.0->anthropic) (2023.6.0)\n",
            "Requirement already satisfied: requests in /usr/local/lib/python3.10/dist-packages (from huggingface_hub<1.0,>=0.16.4->tokenizers>=0.13.0->anthropic) (2.31.0)\n",
            "Requirement already satisfied: tqdm>=4.42.1 in /usr/local/lib/python3.10/dist-packages (from huggingface_hub<1.0,>=0.16.4->tokenizers>=0.13.0->anthropic) (4.66.2)\n",
            "Requirement already satisfied: pyyaml>=5.1 in /usr/local/lib/python3.10/dist-packages (from huggingface_hub<1.0,>=0.16.4->tokenizers>=0.13.0->anthropic) (6.0.1)\n",
            "Requirement already satisfied: packaging>=20.9 in /usr/local/lib/python3.10/dist-packages (from huggingface_hub<1.0,>=0.16.4->tokenizers>=0.13.0->anthropic) (24.0)\n",
            "Requirement already satisfied: charset-normalizer<4,>=2 in /usr/local/lib/python3.10/dist-packages (from requests->huggingface_hub<1.0,>=0.16.4->tokenizers>=0.13.0->anthropic) (3.3.2)\n",
            "Requirement already satisfied: urllib3<3,>=1.21.1 in /usr/local/lib/python3.10/dist-packages (from requests->huggingface_hub<1.0,>=0.16.4->tokenizers>=0.13.0->anthropic) (2.0.7)\n",
            "Installing collected packages: h11, httpcore, httpx, anthropic\n",
            "Successfully installed anthropic-0.20.0 h11-0.14.0 httpcore-1.0.4 httpx-0.27.0\n",
            "Collecting PyGithub\n",
            "  Downloading PyGithub-2.2.0-py3-none-any.whl (350 kB)\n",
            "\u001b[2K     \u001b[90m━━━━━━━━━━━━━━━━━━━━━━━━━━━━━━━━━━━━━━━━\u001b[0m \u001b[32m350.2/350.2 kB\u001b[0m \u001b[31m1.1 MB/s\u001b[0m eta \u001b[36m0:00:00\u001b[0m\n",
            "\u001b[?25hCollecting pynacl>=1.4.0 (from PyGithub)\n",
            "  Downloading PyNaCl-1.5.0-cp36-abi3-manylinux_2_17_x86_64.manylinux2014_x86_64.manylinux_2_24_x86_64.whl (856 kB)\n",
            "\u001b[2K     \u001b[90m━━━━━━━━━━━━━━━━━━━━━━━━━━━━━━━━━━━━━━━━\u001b[0m \u001b[32m856.7/856.7 kB\u001b[0m \u001b[31m712.4 kB/s\u001b[0m eta \u001b[36m0:00:00\u001b[0m\n",
            "\u001b[?25hRequirement already satisfied: requests>=2.14.0 in /usr/local/lib/python3.10/dist-packages (from PyGithub) (2.31.0)\n",
            "Collecting pyjwt[crypto]>=2.4.0 (from PyGithub)\n",
            "  Downloading PyJWT-2.8.0-py3-none-any.whl (22 kB)\n",
            "Requirement already satisfied: typing-extensions>=4.0.0 in /usr/local/lib/python3.10/dist-packages (from PyGithub) (4.10.0)\n",
            "Requirement already satisfied: urllib3>=1.26.0 in /usr/local/lib/python3.10/dist-packages (from PyGithub) (2.0.7)\n",
            "Collecting Deprecated (from PyGithub)\n",
            "  Downloading Deprecated-1.2.14-py2.py3-none-any.whl (9.6 kB)\n",
            "Requirement already satisfied: cryptography>=3.4.0 in /usr/local/lib/python3.10/dist-packages (from pyjwt[crypto]>=2.4.0->PyGithub) (42.0.5)\n",
            "Requirement already satisfied: cffi>=1.4.1 in /usr/local/lib/python3.10/dist-packages (from pynacl>=1.4.0->PyGithub) (1.16.0)\n",
            "Requirement already satisfied: charset-normalizer<4,>=2 in /usr/local/lib/python3.10/dist-packages (from requests>=2.14.0->PyGithub) (3.3.2)\n",
            "Requirement already satisfied: idna<4,>=2.5 in /usr/local/lib/python3.10/dist-packages (from requests>=2.14.0->PyGithub) (3.6)\n",
            "Requirement already satisfied: certifi>=2017.4.17 in /usr/local/lib/python3.10/dist-packages (from requests>=2.14.0->PyGithub) (2024.2.2)\n",
            "Requirement already satisfied: wrapt<2,>=1.10 in /usr/local/lib/python3.10/dist-packages (from Deprecated->PyGithub) (1.14.1)\n",
            "Requirement already satisfied: pycparser in /usr/local/lib/python3.10/dist-packages (from cffi>=1.4.1->pynacl>=1.4.0->PyGithub) (2.21)\n",
            "Installing collected packages: pyjwt, Deprecated, pynacl, PyGithub\n",
            "  Attempting uninstall: pyjwt\n",
            "    Found existing installation: PyJWT 2.3.0\n",
            "    Uninstalling PyJWT-2.3.0:\n",
            "      Successfully uninstalled PyJWT-2.3.0\n",
            "Successfully installed Deprecated-1.2.14 PyGithub-2.2.0 pyjwt-2.8.0 pynacl-1.5.0\n"
          ]
        }
      ]
    },
    {
      "cell_type": "markdown",
      "source": [
        "### Imports, get keys, get llm client and set model to variable MODEL_NAME"
      ],
      "metadata": {
        "id": "xXANfThOTUJF"
      }
    },
    {
      "cell_type": "code",
      "source": [
        "from anthropic import Anthropic\n",
        "import json\n",
        "import re\n",
        "from pprint import pprint\n",
        "from google.colab import userdata\n",
        "from github import Github\n",
        "\n",
        "# Get the OpenAI API key from Colab secrets\n",
        "github_token=userdata.get('Github_Token')\n",
        "claude_api_key=userdata.get('Claude_api_key')\n",
        "# Initialize a GitHub instance\n",
        "g = Github(github_token)\n",
        "\n",
        "client = Anthropic(api_key=claude_api_key)\n",
        "MODEL_NAME = \"claude-3-opus-20240229\""
      ],
      "metadata": {
        "id": "HgzQz8VirhAw"
      },
      "execution_count": 2,
      "outputs": []
    },
    {
      "cell_type": "markdown",
      "source": [
        "### Github helper functions\n",
        "* read_file_as_string()\n",
        "* check_in_file(repo_name, file_path, file_content, content_tag, branch)"
      ],
      "metadata": {
        "id": "2TKZOKLeXN1O"
      }
    },
    {
      "cell_type": "code",
      "source": [
        "def read_file_as_string(file_path):\n",
        "  \"\"\"\n",
        "    Reads the file and return a string representation of the file contents\n",
        "\n",
        "    Parameters:\n",
        "      file_path (str): Filename including filepath\n",
        "  \"\"\"\n",
        "  try:\n",
        "      with open(file_path, 'r') as file:\n",
        "          file_contents = file.read()\n",
        "      return file_contents\n",
        "  except FileNotFoundError:\n",
        "      print(f\"File '{file_path}' not found.\")\n",
        "      return None\n",
        "  except Exception as e:\n",
        "      print(f\"An error occurred: {e}\")\n",
        "      return None\n",
        "\n",
        "def check_in_file(repo_name, file_path, file_content, content_tag, branch):\n",
        "  \"\"\"\n",
        "    Checks if a specific file exists in a GitHub repository and updates it with new content if it does.\n",
        "    If the file does not exist, it creates a new file with the provided content.\n",
        "\n",
        "    This function operates on a specific branch named 'test'. If updating, it will commit the changes with a given content tag as the commit message.\n",
        "    In case the file needs to be created, it will also use the content tag as the commit message for the new file.\n",
        "\n",
        "    Parameters:\n",
        "    - repo_name (str): The name of the repository, formatted as 'username/repository'.\n",
        "    - file_path (str): The path to the file within the repository. This should include the file name and its extension.\n",
        "    - file_content (str): The content to be written to the file. This is used both for updating and creating the file.\n",
        "    - content_tag (str): A message associated with the commit used for updating or creating the file.\n",
        "    - branch (str): Github branch for the code\n",
        "\n",
        "    Behavior:\n",
        "    - If the file exists at the specified path, it updates the file with `file_content`, using `content_tag` as the commit message.\n",
        "    - If the file does not exist, it creates a new file at the specified path with `file_content`, also using `content_tag` as the commit message for creation.\n",
        "    - Upon successful update or creation, prints a success message indicating the action taken.\n",
        " \"\"\"\n",
        "\n",
        "  # Get the repository\n",
        "  repo = g.get_repo(repo_name)\n",
        "\n",
        "  try:\n",
        "      # Get the contents of the file if it exists\n",
        "      file = repo.get_contents(file_path, ref=branch)\n",
        "\n",
        "      # Update the file\n",
        "      repo.update_file(file_path, content_tag, file_content, file.sha, branch=branch)\n",
        "      print(f\"File '{file_path}' updated successfully.\")\n",
        "  except:\n",
        "      # If the file doesn't exist, create it\n",
        "      print(f\"{file_path}/{file_content} does not exist\")\n",
        "      repo.create_file(file_path, content_tag, file_content, branch=branch)\n",
        "      print(f\"File '{file_path}' created successfully.\")"
      ],
      "metadata": {
        "id": "U6zhOVp3rhDW"
      },
      "execution_count": 3,
      "outputs": []
    },
    {
      "cell_type": "markdown",
      "source": [
        "# Setup\n",
        "1.   System Message\n",
        "2.   User Message\n",
        "\n"
      ],
      "metadata": {
        "id": "TqsXQmSVUKDN"
      }
    },
    {
      "cell_type": "code",
      "source": [
        "system_message=\"You are an AI assistant with a witty sense of humor and a knack for crafting clever puns and wordplay. When a user provides a topic, your task is to generate a list of five puns, play on words, or humorous phrases related to that topic. The wordplay should be original, creative, and aim to elicit a laugh or a groan from the reader.\"\n",
        "user_message_content = \"fishing\""
      ],
      "metadata": {
        "id": "CXd8CCYOLCBN"
      },
      "execution_count": 4,
      "outputs": []
    },
    {
      "cell_type": "markdown",
      "source": [
        "# Make the call to LLMs"
      ],
      "metadata": {
        "id": "_MDSbrT9UpOB"
      }
    },
    {
      "cell_type": "code",
      "source": [
        "# Create the message with variables\n",
        "response = client.messages.create(\n",
        "    model=\"claude-3-opus-20240229\",\n",
        "    max_tokens=1000,\n",
        "    temperature=0,\n",
        "    system=system_message,\n",
        "    messages=[\n",
        "        {\"role\": \"user\", \"content\": user_message_content}\n",
        "    ]\n",
        ")\n",
        "\n",
        "# Assuming you have a client setup for interaction. Ensure to configure your OpenAI client appropriately.\n",
        "\n",
        "message = response.content[0].text"
      ],
      "metadata": {
        "id": "DAKT9wxMrhGK"
      },
      "execution_count": 5,
      "outputs": []
    },
    {
      "cell_type": "markdown",
      "source": [
        "# Validate response from LLM"
      ],
      "metadata": {
        "id": "MOTbodyRUt55"
      }
    },
    {
      "cell_type": "code",
      "source": [
        "print(message)"
      ],
      "metadata": {
        "id": "Eiv8FviXrhNd",
        "outputId": "27e280f6-39e4-4701-f4f2-eb63088620b1",
        "colab": {
          "base_uri": "https://localhost:8080/"
        }
      },
      "execution_count": 6,
      "outputs": [
        {
          "output_type": "stream",
          "name": "stdout",
          "text": [
            "1. I tried to catch some fog, but I mist.\n",
            "2. What do you call a fish wearing a bowtie? Sofishticated.\n",
            "3. I heard the best time to go fishing is at the crack of dawn, so I couldn't help but wonder: How do you fix a broken dawn?\n",
            "4. Fishing is reel fun, especially when you're angling for a good time!\n",
            "5. I've been told I'm a good catch, but I think I'm more of a keeper.\n"
          ]
        }
      ]
    },
    {
      "cell_type": "code",
      "source": [
        "\n",
        "print(response)\n"
      ],
      "metadata": {
        "id": "1hqAMH60rhQF",
        "outputId": "7fda7334-be7d-471b-e6d8-7ed6c1875068",
        "colab": {
          "base_uri": "https://localhost:8080/"
        }
      },
      "execution_count": 7,
      "outputs": [
        {
          "output_type": "stream",
          "name": "stdout",
          "text": [
            "Message(id='msg_01WMuv5uMtony3DzQQmrmX5b', content=[ContentBlock(text=\"1. I tried to catch some fog, but I mist.\\n2. What do you call a fish wearing a bowtie? Sofishticated.\\n3. I heard the best time to go fishing is at the crack of dawn, so I couldn't help but wonder: How do you fix a broken dawn?\\n4. Fishing is reel fun, especially when you're angling for a good time!\\n5. I've been told I'm a good catch, but I think I'm more of a keeper.\", type='text')], model='claude-3-opus-20240229', role='assistant', stop_reason='end_turn', stop_sequence=None, type='message', usage=Usage(input_tokens=90, output_tokens=117))\n"
          ]
        }
      ]
    },
    {
      "cell_type": "markdown",
      "source": [
        "# Check into Github\n",
        "*   repository : \"cooolbabu/GoogleGemini101\"\n",
        "*   filename : \"AzureDatabricks/filename\" - specify actual filename\n",
        "*   filecontent: Contents of the file to check in\n",
        "*   tag_name: give a comment. It will show in Github\n",
        "* branch: branch name to check into. Ensure that branch already exists\n",
        "          Future TODO: if branch doesn't exist (notify, ask, process)\n",
        "\n"
      ],
      "metadata": {
        "id": "zn-veyM-U19x"
      }
    },
    {
      "cell_type": "code",
      "source": [
        "repository = \"cooolbabu/GoogleGemini101\"\n",
        "filename = \"AzureDatabricks/claude_reponse_txt\"\n",
        "tag_name = \"second iteration for comparision\"\n",
        "branch_name = \"testing_claude\"\n",
        "\n",
        "check_in_file(repository, filename, message, tag_name, branch=branch_name)\n"
      ],
      "metadata": {
        "id": "r5TLQLE8rhYD",
        "outputId": "56829002-6f01-4207-fdd5-ffa1d7427ded",
        "colab": {
          "base_uri": "https://localhost:8080/"
        }
      },
      "execution_count": 8,
      "outputs": [
        {
          "output_type": "stream",
          "name": "stdout",
          "text": [
            "File 'AzureDatabricks/claude_reponse_txt' updated successfully.\n"
          ]
        }
      ]
    },
    {
      "cell_type": "markdown",
      "source": [
        "# Github Helpers"
      ],
      "metadata": {
        "id": "nAPY0Nw9WLgz"
      }
    },
    {
      "cell_type": "code",
      "source": [
        "# @title Github Helper functions\n",
        "repository = \"cooolbabu/GoogleGemini101\" # @param [\"cooolbabu/GoogleGemini101\"]\n"
      ],
      "metadata": {
        "id": "2mqHif3Yl-Ix"
      },
      "execution_count": 18,
      "outputs": []
    },
    {
      "cell_type": "code",
      "source": [],
      "metadata": {
        "id": "yoc_D4s6sHs_"
      },
      "execution_count": null,
      "outputs": []
    },
    {
      "cell_type": "code",
      "execution_count": 16,
      "metadata": {
        "id": "93jlqeSbkjZV"
      },
      "outputs": [],
      "source": [
        "#pip install PyGithub\n",
        "from google.colab import userdata\n",
        "from github import Github\n",
        "\n",
        "# Get the OpenAI API key from Colab secrets\n",
        "github_token=userdata.get('Github_Token')\n",
        "# Initialize a GitHub instance\n",
        "g = Github(github_token)\n",
        "\n",
        "def read_file_as_string(file_path):\n",
        "  \"\"\"\n",
        "    Reads the file and return a string representation of the file contents\n",
        "\n",
        "    Parameters:\n",
        "      file_path (str): Filename including filepath\n",
        "  \"\"\"\n",
        "  try:\n",
        "      with open(file_path, 'r') as file:\n",
        "          file_contents = file.read()\n",
        "      return file_contents\n",
        "  except FileNotFoundError:\n",
        "      print(f\"File '{file_path}' not found.\")\n",
        "      return None\n",
        "  except Exception as e:\n",
        "      print(f\"An error occurred: {e}\")\n",
        "      return None\n",
        "\n",
        "def check_in_file(repo_name, file_path, file_content, content_tag, branch):\n",
        "  \"\"\"\n",
        "    Checks if a specific file exists in a GitHub repository and updates it with new content if it does.\n",
        "    If the file does not exist, it creates a new file with the provided content.\n",
        "\n",
        "    This function operates on a specific branch named 'test'. If updating, it will commit the changes with a given content tag as the commit message.\n",
        "    In case the file needs to be created, it will also use the content tag as the commit message for the new file.\n",
        "\n",
        "    Parameters:\n",
        "    - repo_name (str): The name of the repository, formatted as 'username/repository'.\n",
        "    - file_path (str): The path to the file within the repository. This should include the file name and its extension.\n",
        "    - file_content (str): The content to be written to the file. This is used both for updating and creating the file.\n",
        "    - content_tag (str): A message associated with the commit used for updating or creating the file.\n",
        "    - branch (str): Github branch for the code\n",
        "\n",
        "    Behavior:\n",
        "    - If the file exists at the specified path, it updates the file with `file_content`, using `content_tag` as the commit message.\n",
        "    - If the file does not exist, it creates a new file at the specified path with `file_content`, also using `content_tag` as the commit message for creation.\n",
        "    - Upon successful update or creation, prints a success message indicating the action taken.\n",
        " \"\"\"\n",
        "\n",
        "  # Get the repository\n",
        "  repo = g.get_repo(repo_name)\n",
        "\n",
        "  try:\n",
        "      # Get the contents of the file if it exists\n",
        "      file = repo.get_contents(file_path, ref=branch)\n",
        "\n",
        "      # Update the file\n",
        "      repo.update_file(file_path, content_tag, file_content, file.sha, branch=branch)\n",
        "      print(f\"File '{file_path}' updated successfully.\")\n",
        "  except:\n",
        "      # If the file doesn't exist, create it\n",
        "      print(f\"{file_path}/{file_content} does not exist\")\n",
        "      repo.create_file(file_path, content_tag, file_content, branch=branch)\n",
        "      print(f\"File '{file_path}' created successfully.\")\n"
      ]
    },
    {
      "cell_type": "code",
      "source": [
        "# @title Github functions\n",
        "\n",
        "file_contents = read_file_as_string('/content/export_007.json')\n",
        "check_in_file(repository, \"AzureDatabricks/Test_file\", file_contents, \"Initial checkin of export_007_json\", branch=\"test\")\n"
      ],
      "metadata": {
        "id": "FUA8uYSznwDA"
      },
      "execution_count": null,
      "outputs": []
    }
  ]
}