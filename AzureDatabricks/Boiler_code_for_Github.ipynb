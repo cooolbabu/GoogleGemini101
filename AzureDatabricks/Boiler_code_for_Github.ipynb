{
  "nbformat": 4,
  "nbformat_minor": 0,
  "metadata": {
    "colab": {
      "provenance": [],
      "toc_visible": true,
      "authorship_tag": "ABX9TyOi9Pz7QLWybNV62PEnWNNg",
      "include_colab_link": true
    },
    "kernelspec": {
      "name": "python3",
      "display_name": "Python 3"
    },
    "language_info": {
      "name": "python"
    }
  },
  "cells": [
    {
      "cell_type": "markdown",
      "metadata": {
        "id": "view-in-github",
        "colab_type": "text"
      },
      "source": [
        "<a href=\"https://colab.research.google.com/github/cooolbabu/GoogleGemini101/blob/main/AzureDatabricks/Boiler_code_for_Github.ipynb\" target=\"_parent\"><img src=\"https://colab.research.google.com/assets/colab-badge.svg\" alt=\"Open In Colab\"/></a>"
      ]
    },
    {
      "cell_type": "code",
      "source": [],
      "metadata": {
        "id": "SUckIMaorrfl"
      },
      "execution_count": null,
      "outputs": []
    },
    {
      "cell_type": "code",
      "source": [],
      "metadata": {
        "id": "HgzQz8VirhAw"
      },
      "execution_count": 2,
      "outputs": []
    },
    {
      "cell_type": "code",
      "source": [],
      "metadata": {
        "id": "U6zhOVp3rhDW"
      },
      "execution_count": 2,
      "outputs": []
    },
    {
      "cell_type": "code",
      "source": [
        "\n",
        "\n"
      ],
      "metadata": {
        "id": "DAKT9wxMrhGK"
      },
      "execution_count": 2,
      "outputs": []
    },
    {
      "cell_type": "code",
      "source": [],
      "metadata": {
        "id": "Eiv8FviXrhNd"
      },
      "execution_count": 2,
      "outputs": []
    },
    {
      "cell_type": "code",
      "source": [
        "\n",
        "\n"
      ],
      "metadata": {
        "id": "1hqAMH60rhQF"
      },
      "execution_count": 2,
      "outputs": []
    },
    {
      "cell_type": "code",
      "source": [
        "pip install PyGithub"
      ],
      "metadata": {
        "id": "r5TLQLE8rhYD"
      },
      "execution_count": null,
      "outputs": []
    },
    {
      "cell_type": "code",
      "source": [
        "# @title Github Helper functions\n",
        "repository = \"cooolbabu/GoogleGemini101\" # @param [\"cooolbabu/GoogleGemini101\"]\n"
      ],
      "metadata": {
        "id": "2mqHif3Yl-Ix"
      },
      "execution_count": null,
      "outputs": []
    },
    {
      "cell_type": "code",
      "source": [],
      "metadata": {
        "id": "yoc_D4s6sHs_"
      },
      "execution_count": null,
      "outputs": []
    },
    {
      "cell_type": "code",
      "execution_count": 2,
      "metadata": {
        "id": "93jlqeSbkjZV"
      },
      "outputs": [],
      "source": [
        "#pip install PyGithub\n",
        "from google.colab import userdata\n",
        "from github import Github\n",
        "\n",
        "# Get the OpenAI API key from Colab secrets\n",
        "github_token=userdata.get('Github_Token')\n",
        "# Initialize a GitHub instance\n",
        "g = Github(github_token)\n",
        "\n",
        "def read_file_as_string(file_path):\n",
        "  \"\"\"\n",
        "    Reads the file and return a string representation of the file contents\n",
        "\n",
        "    Parameters:\n",
        "      file_path (str): Filename including filepath\n",
        "  \"\"\"\n",
        "  try:\n",
        "      with open(file_path, 'r') as file:\n",
        "          file_contents = file.read()\n",
        "      return file_contents\n",
        "  except FileNotFoundError:\n",
        "      print(f\"File '{file_path}' not found.\")\n",
        "      return None\n",
        "  except Exception as e:\n",
        "      print(f\"An error occurred: {e}\")\n",
        "      return None\n",
        "\n",
        "def check_in_file(repo_name, file_path, file_content, content_tag, branch):\n",
        "  \"\"\"\n",
        "    Checks if a specific file exists in a GitHub repository and updates it with new content if it does.\n",
        "    If the file does not exist, it creates a new file with the provided content.\n",
        "\n",
        "    This function operates on a specific branch named 'test'. If updating, it will commit the changes with a given content tag as the commit message.\n",
        "    In case the file needs to be created, it will also use the content tag as the commit message for the new file.\n",
        "\n",
        "    Parameters:\n",
        "    - repo_name (str): The name of the repository, formatted as 'username/repository'.\n",
        "    - file_path (str): The path to the file within the repository. This should include the file name and its extension.\n",
        "    - file_content (str): The content to be written to the file. This is used both for updating and creating the file.\n",
        "    - content_tag (str): A message associated with the commit used for updating or creating the file.\n",
        "    - branch (str): Github branch for the code\n",
        "\n",
        "    Behavior:\n",
        "    - If the file exists at the specified path, it updates the file with `file_content`, using `content_tag` as the commit message.\n",
        "    - If the file does not exist, it creates a new file at the specified path with `file_content`, also using `content_tag` as the commit message for creation.\n",
        "    - Upon successful update or creation, prints a success message indicating the action taken.\n",
        " \"\"\"\n",
        "\n",
        "  # Get the repository\n",
        "  repo = g.get_repo(repo_name)\n",
        "\n",
        "  try:\n",
        "      # Get the contents of the file if it exists\n",
        "      file = repo.get_contents(file_path, ref=branch)\n",
        "\n",
        "      # Update the file\n",
        "      repo.update_file(file_path, content_tag, file_content, file.sha, branch=branch)\n",
        "      print(f\"File '{file_path}' updated successfully.\")\n",
        "  except:\n",
        "      # If the file doesn't exist, create it\n",
        "      print(f\"{file_path}/{file_content} does not exist\")\n",
        "      repo.create_file(file_path, content_tag, file_content, branch=branch)\n",
        "      print(f\"File '{file_path}' created successfully.\")\n"
      ]
    },
    {
      "cell_type": "code",
      "source": [
        "# @title Github functions\n",
        "\n",
        "file_contents = read_file_as_string('/content/export_007.json')\n",
        "check_in_file(repository, \"AzureDatabricks/Test_file\", file_contents, \"Initial checkin of export_007_json\", branch=\"test\")\n"
      ],
      "metadata": {
        "id": "FUA8uYSznwDA"
      },
      "execution_count": null,
      "outputs": []
    }
  ]
}