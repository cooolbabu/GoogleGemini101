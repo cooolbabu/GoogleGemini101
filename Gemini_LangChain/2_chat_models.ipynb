{
  "cells": [
    {
      "cell_type": "markdown",
      "metadata": {
        "id": "view-in-github",
        "colab_type": "text"
      },
      "source": [
        "<a href=\"https://colab.research.google.com/github/cooolbabu/GoogleGemini101/blob/main/Gemini_LangChain/2_chat_models.ipynb\" target=\"_parent\"><img src=\"https://colab.research.google.com/assets/colab-badge.svg\" alt=\"Open In Colab\"/></a>"
      ]
    },
    {
      "cell_type": "markdown",
      "metadata": {
        "id": "cviugeWWC3lN"
      },
      "source": [
        "## Chat Models\n"
      ]
    },
    {
      "cell_type": "code",
      "execution_count": 1,
      "metadata": {
        "id": "IlchPyAjC3lP",
        "colab": {
          "base_uri": "https://localhost:8080/"
        },
        "outputId": "5b74d421-48bc-42e8-cad7-f79ca068cc2e"
      },
      "outputs": [
        {
          "output_type": "stream",
          "name": "stdout",
          "text": [
            "\u001b[?25l     \u001b[90m━━━━━━━━━━━━━━━━━━━━━━━━━━━━━━━━━━━━━━━━\u001b[0m \u001b[32m0.0/803.6 kB\u001b[0m \u001b[31m?\u001b[0m eta \u001b[36m-:--:--\u001b[0m\r\u001b[2K     \u001b[91m━━━━━━━━━━━━━━\u001b[0m\u001b[90m╺\u001b[0m\u001b[90m━━━━━━━━━━━━━━━━━━━━━━━━━\u001b[0m \u001b[32m286.7/803.6 kB\u001b[0m \u001b[31m8.8 MB/s\u001b[0m eta \u001b[36m0:00:01\u001b[0m\r\u001b[2K     \u001b[90m━━━━━━━━━━━━━━━━━━━━━━━━━━━━━━━━━━━━━━━━\u001b[0m \u001b[32m803.6/803.6 kB\u001b[0m \u001b[31m13.8 MB/s\u001b[0m eta \u001b[36m0:00:00\u001b[0m\n",
            "\u001b[2K     \u001b[90m━━━━━━━━━━━━━━━━━━━━━━━━━━━━━━━━━━━━━━━━\u001b[0m \u001b[32m230.3/230.3 kB\u001b[0m \u001b[31m24.7 MB/s\u001b[0m eta \u001b[36m0:00:00\u001b[0m\n",
            "\u001b[2K     \u001b[90m━━━━━━━━━━━━━━━━━━━━━━━━━━━━━━━━━━━━━━━━\u001b[0m \u001b[32m1.6/1.6 MB\u001b[0m \u001b[31m54.8 MB/s\u001b[0m eta \u001b[36m0:00:00\u001b[0m\n",
            "\u001b[2K     \u001b[90m━━━━━━━━━━━━━━━━━━━━━━━━━━━━━━━━━━━━━━━━\u001b[0m \u001b[32m54.0/54.0 kB\u001b[0m \u001b[31m6.7 MB/s\u001b[0m eta \u001b[36m0:00:00\u001b[0m\n",
            "\u001b[2K     \u001b[90m━━━━━━━━━━━━━━━━━━━━━━━━━━━━━━━━━━━━━━━━\u001b[0m \u001b[32m49.4/49.4 kB\u001b[0m \u001b[31m6.0 MB/s\u001b[0m eta \u001b[36m0:00:00\u001b[0m\n",
            "\u001b[?25h"
          ]
        }
      ],
      "source": [
        "!pip install -U --quiet langchain-google-genai  langchain"
      ]
    },
    {
      "cell_type": "code",
      "execution_count": 9,
      "metadata": {
        "id": "uoLnCiZJC3lQ"
      },
      "outputs": [],
      "source": [
        "from langchain_google_genai import ChatGoogleGenerativeAI\n",
        "from google.colab import userdata\n",
        "\n",
        "# setup the gemini pro\n",
        "gemini_llm = ChatGoogleGenerativeAI(model=\"gemini-pro\",temperature=0.3, google_api_key=userdata.get('Gemini_API_Key'), convert_system_message_to_human=True)"
      ]
    },
    {
      "cell_type": "code",
      "execution_count": 10,
      "metadata": {
        "id": "OMx-4_vyC3lQ",
        "outputId": "7259c752-b8ba-4f03-cc17-154ddabd7596",
        "colab": {
          "base_uri": "https://localhost:8080/"
        }
      },
      "outputs": [
        {
          "output_type": "stream",
          "name": "stdout",
          "text": [
            "As an AI language model, I don't have personal feelings or emotions, so I don't experience states like \"being good\" or \"being bad.\" My purpose is to provide information and assist users with their queries to the best of my abilities.\n",
            "\n",
            "How can I help you today?\n"
          ]
        }
      ],
      "source": [
        "result = gemini_llm.invoke(\"Hello, how are you?\")\n",
        "print(result.content)"
      ]
    },
    {
      "cell_type": "code",
      "execution_count": 11,
      "metadata": {
        "id": "pUh1QVrJC3lR",
        "colab": {
          "base_uri": "https://localhost:8080/"
        },
        "outputId": "6d727993-fb77-4bd9-8cf6-eff28a86e3ac"
      },
      "outputs": [
        {
          "output_type": "stream",
          "name": "stdout",
          "text": [
            "1. Sock-a-licious\n",
            "2. Happy Feet\n",
            "3. Toe-tally Awesome Socks\n",
            "4. Colorful Soles\n",
            "5. Sock It To Me\n",
            "6. Sock Appeal\n",
            "7. Crazy Socks\n",
            "8. Funky Feet\n",
            "9. Sockcessories\n",
            "10. Sockstar\n"
          ]
        }
      ],
      "source": [
        "from langchain_core.messages import HumanMessage, SystemMessage\n",
        "\n",
        "text = \"What would be a good company name for a company that makes colorful socks?\"\n",
        "messages = [HumanMessage(content=text)]\n",
        "result = gemini_llm.invoke(messages)\n",
        "print(result.content)"
      ]
    },
    {
      "cell_type": "code",
      "execution_count": 12,
      "metadata": {
        "id": "qbg1GfGqC3lR",
        "outputId": "958a63df-806b-4284-a590-ef9c3362dfd3",
        "colab": {
          "base_uri": "https://localhost:8080/"
        }
      },
      "outputs": [
        {
          "output_type": "stream",
          "name": "stdout",
          "text": [
            "1. Sock-a-licious\n",
            "2. Happy Feet\n",
            "3. Toe-tally Awesome Socks\n",
            "4. Colorful Soles\n",
            "5. Sock It To Me\n",
            "6. Sock Appeal\n",
            "7. Crazy Socks\n",
            "8. Funky Feet\n",
            "9. Sockcessories\n",
            "10. Sockstar\n"
          ]
        }
      ],
      "source": [
        "print(result.content)"
      ]
    },
    {
      "cell_type": "markdown",
      "metadata": {
        "id": "XIAYiwhdC3lR"
      },
      "source": [
        "---\n",
        "\n",
        "## Inserting the SystemMessage instead of a HumanMessage\n",
        "\n",
        "Gemini doesn't support SystemMessage yet. Use ChatPromptTemplate\n"
      ]
    },
    {
      "cell_type": "code",
      "execution_count": null,
      "metadata": {
        "id": "KpjvierTC3lR"
      },
      "outputs": [],
      "source": [
        "text = \"What would be a good company name for a company that makes colorful socks?\"\n",
        "\n",
        "messages = [SystemMessage(content=text)]\n",
        "result = gemini_llm.invoke(messages)\n",
        "print(result.content)"
      ]
    }
  ],
  "metadata": {
    "kernelspec": {
      "display_name": "base",
      "language": "python",
      "name": "python3"
    },
    "language_info": {
      "codemirror_mode": {
        "name": "ipython",
        "version": 3
      },
      "file_extension": ".py",
      "mimetype": "text/x-python",
      "name": "python",
      "nbconvert_exporter": "python",
      "pygments_lexer": "ipython3",
      "version": "3.9.13"
    },
    "orig_nbformat": 4,
    "colab": {
      "provenance": [],
      "include_colab_link": true
    }
  },
  "nbformat": 4,
  "nbformat_minor": 0
}