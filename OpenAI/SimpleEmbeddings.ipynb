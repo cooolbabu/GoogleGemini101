{
  "cells": [
    {
      "cell_type": "markdown",
      "metadata": {
        "id": "view-in-github",
        "colab_type": "text"
      },
      "source": [
        "<a href=\"https://colab.research.google.com/github/cooolbabu/GoogleGemini101/blob/main/OpenAI/SimpleEmbeddings.ipynb\" target=\"_parent\"><img src=\"https://colab.research.google.com/assets/colab-badge.svg\" alt=\"Open In Colab\"/></a>"
      ]
    },
    {
      "cell_type": "markdown",
      "source": [
        "# Simple embeddings"
      ],
      "metadata": {
        "id": "I2v1Y9nvJuNJ"
      }
    },
    {
      "cell_type": "markdown",
      "metadata": {
        "id": "bbzGYCzCC7wY"
      },
      "source": [
        "# Installation\n"
      ]
    },
    {
      "cell_type": "code",
      "execution_count": 1,
      "metadata": {
        "id": "1nS1SD2pC7wZ",
        "outputId": "a369b02d-90dd-4314-c9f6-5e8485a372dc",
        "colab": {
          "base_uri": "https://localhost:8080/"
        }
      },
      "outputs": [
        {
          "output_type": "stream",
          "name": "stdout",
          "text": [
            "\u001b[2K     \u001b[90m━━━━━━━━━━━━━━━━━━━━━━━━━━━━━━━━━━━━━━━━\u001b[0m \u001b[32m266.9/266.9 kB\u001b[0m \u001b[31m4.1 MB/s\u001b[0m eta \u001b[36m0:00:00\u001b[0m\n",
            "\u001b[2K     \u001b[90m━━━━━━━━━━━━━━━━━━━━━━━━━━━━━━━━━━━━━━━━\u001b[0m \u001b[32m75.6/75.6 kB\u001b[0m \u001b[31m3.4 MB/s\u001b[0m eta \u001b[36m0:00:00\u001b[0m\n",
            "\u001b[2K     \u001b[90m━━━━━━━━━━━━━━━━━━━━━━━━━━━━━━━━━━━━━━━━\u001b[0m \u001b[32m77.9/77.9 kB\u001b[0m \u001b[31m6.5 MB/s\u001b[0m eta \u001b[36m0:00:00\u001b[0m\n",
            "\u001b[2K     \u001b[90m━━━━━━━━━━━━━━━━━━━━━━━━━━━━━━━━━━━━━━━━\u001b[0m \u001b[32m58.3/58.3 kB\u001b[0m \u001b[31m2.8 MB/s\u001b[0m eta \u001b[36m0:00:00\u001b[0m\n",
            "\u001b[2K     \u001b[90m━━━━━━━━━━━━━━━━━━━━━━━━━━━━━━━━━━━━━━━━\u001b[0m \u001b[32m44.3/44.3 kB\u001b[0m \u001b[31m1.2 MB/s\u001b[0m eta \u001b[36m0:00:00\u001b[0m\n",
            "\u001b[2K     \u001b[90m━━━━━━━━━━━━━━━━━━━━━━━━━━━━━━━━━━━━━━━━\u001b[0m \u001b[32m130.2/130.2 kB\u001b[0m \u001b[31m4.7 MB/s\u001b[0m eta \u001b[36m0:00:00\u001b[0m\n",
            "\u001b[2K     \u001b[90m━━━━━━━━━━━━━━━━━━━━━━━━━━━━━━━━━━━━━━━━\u001b[0m \u001b[32m334.7/334.7 kB\u001b[0m \u001b[31m5.7 MB/s\u001b[0m eta \u001b[36m0:00:00\u001b[0m\n",
            "\u001b[?25h"
          ]
        }
      ],
      "source": [
        "!pip install openai -q\n",
        "!pip install supabase -q\n",
        "!pip install pyodbc -q"
      ]
    },
    {
      "cell_type": "markdown",
      "source": [
        "## Get API Keys and setup"
      ],
      "metadata": {
        "id": "5T7pw0W2w2BF"
      }
    },
    {
      "cell_type": "code",
      "execution_count": 2,
      "metadata": {
        "id": "jXVnzXnDC7wa"
      },
      "outputs": [],
      "source": [
        "from openai import OpenAI\n",
        "\n",
        "from supabase import create_client, Client\n",
        "\n",
        "from sqlalchemy import create_engine, text\n",
        "from sqlalchemy.orm import sessionmaker\n",
        "\n",
        "import pandas as pd\n",
        "import pyodbc\n",
        "\n",
        "import requests\n",
        "import json\n",
        "from google.colab import userdata\n",
        "\n",
        "# setup the gemini pro\n",
        "# gemini_llm = ChatGoogleGenerativeAI(model=\"gemini-pro\",temperature=0.3, google_api_key=userdata.get('Gemini_API_Key'))\n",
        "\n",
        "# setup Supabase connection\n",
        "supabase_url = userdata.get('SUPABASE_URL')\n",
        "supabase_key = userdata.get('SUPABASE_KEY')\n",
        "supabase_client = create_client(supabase_url, supabase_key)\n",
        "\n",
        "# OpenAI key\n",
        "openai_api_key = userdata.get('OPENAI_API_KEY')\n",
        "openai_client = OpenAI(api_key=openai_api_key)\n"
      ]
    },
    {
      "cell_type": "markdown",
      "source": [
        "## Helper functions to run code\n"
      ],
      "metadata": {
        "id": "uw8TgkuKyCyn"
      }
    },
    {
      "cell_type": "code",
      "source": [
        "from openai import OpenAI\n",
        "import torch\n",
        "\n",
        "# Function to get embedding from text using OpenAI's embedding model\n",
        "def get_embedding(text, model=\"text-embedding-3-small\"):\n",
        " return openai_client.embeddings.create(input=[text], model=model).data[0].embedding\n",
        "\n"
      ],
      "metadata": {
        "id": "e2LHGAW9vEOB"
      },
      "execution_count": 5,
      "outputs": []
    },
    {
      "cell_type": "code",
      "source": [
        "# Original input as is - Score is 0.8646\n",
        "\n",
        "sql_query_1 = 'SELECT \"Genre\".\"Name\" AS \"Genre\", EXTRACT(QUARTER FROM \"Invoice\".\"InvoiceDate\") AS \"Quarter\", SUM(\"InvoiceLine\".\"UnitPrice\" * \"InvoiceLine\".\"Quantity\") AS \"Total Sales\" FROM \"Genre\" INNER JOIN \"Track\" ON \"Genre\".\"GenreId\" = \"Track\".\"GenreId\" INNER JOIN \"InvoiceLine\" ON \"Track\".\"TrackId\" = \"InvoiceLine\".\"TrackId\" INNER JOIN \"Invoice\" ON \"InvoiceLine\".\"InvoiceId\" = \"Invoice\".\"InvoiceId\" GROUP BY \"Genre\", \"Quarter\"'\n",
        "\n",
        "sql_query_2 = 'SELECT \"Genre\".\"Name\", SUM(\"InvoiceLine\".\"UnitPrice\" * \"InvoiceLine\".\"Quantity\") AS \"Total Sales\" FROM \"Genre\" INNER JOIN \"Track\" ON \"Genre\".\"GenreId\" = \"Track\".\"GenreId\" INNER JOIN \"InvoiceLine\" ON \"Track\".\"TrackId\" = \"InvoiceLine\".\"TrackId\" GROUP BY \"Genre\".\"Name\" ORDER BY \"Total Sales\" DESC LIMIT 5;'\n",
        "\n",
        "# Get the embeddings and convert them into tensors\n",
        "sql_query_1_embedding = torch.FloatTensor(get_embedding(text=sql_query_1))\n",
        "sql_query_2_embedding = torch.FloatTensor(get_embedding(text=sql_query_2))\n",
        "\n",
        "# Get the dot product/similarity score\n",
        "torch.dot(sql_query_1_embedding, sql_query_2_embedding)\n"
      ],
      "metadata": {
        "id": "gRVas3s1mhJV",
        "outputId": "59debb39-e262-4845-b305-95c2f01958f5",
        "colab": {
          "base_uri": "https://localhost:8080/"
        }
      },
      "execution_count": 6,
      "outputs": [
        {
          "output_type": "execute_result",
          "data": {
            "text/plain": [
              "tensor(0.8646)"
            ]
          },
          "metadata": {},
          "execution_count": 6
        }
      ]
    },
    {
      "cell_type": "code",
      "source": [
        "# Removed the first word SELECT from both statements\n",
        "#  - New Score is 0.8691\n",
        "#  - Expectation - No change to score\n",
        "#  - Is 0.055 change significant - Maybe not. At what point do we say that the change is significant ?\n",
        "\n",
        "sql_query_1 = '\"Genre\".\"Name\" AS \"Genre\", EXTRACT(QUARTER FROM \"Invoice\".\"InvoiceDate\") AS \"Quarter\", SUM(\"InvoiceLine\".\"UnitPrice\" * \"InvoiceLine\".\"Quantity\") AS \"Total Sales\" FROM \"Genre\" INNER JOIN \"Track\" ON \"Genre\".\"GenreId\" = \"Track\".\"GenreId\" INNER JOIN \"InvoiceLine\" ON \"Track\".\"TrackId\" = \"InvoiceLine\".\"TrackId\" INNER JOIN \"Invoice\" ON \"InvoiceLine\".\"InvoiceId\" = \"Invoice\".\"InvoiceId\" GROUP BY \"Genre\", \"Quarter\"'\n",
        "\n",
        "sql_query_2 = '\"Genre\".\"Name\", SUM(\"InvoiceLine\".\"UnitPrice\" * \"InvoiceLine\".\"Quantity\") AS \"Total Sales\" FROM \"Genre\" INNER JOIN \"Track\" ON \"Genre\".\"GenreId\" = \"Track\".\"GenreId\" INNER JOIN \"InvoiceLine\" ON \"Track\".\"TrackId\" = \"InvoiceLine\".\"TrackId\" GROUP BY \"Genre\".\"Name\" ORDER BY \"Total Sales\" DESC LIMIT 5;'\n",
        "\n",
        "# Get the embeddings and convert them into tensors\n",
        "sql_query_1_embedding = torch.FloatTensor(get_embedding(text=sql_query_1))\n",
        "sql_query_2_embedding = torch.FloatTensor(get_embedding(text=sql_query_2))\n",
        "\n",
        "# Get the dot product/similarity score\n",
        "torch.dot(sql_query_1_embedding, sql_query_2_embedding)"
      ],
      "metadata": {
        "id": "7IreSY8RnTYT",
        "outputId": "3afaa991-775a-44d5-bb0d-7d36bbe4669b",
        "colab": {
          "base_uri": "https://localhost:8080/"
        }
      },
      "execution_count": 7,
      "outputs": [
        {
          "output_type": "execute_result",
          "data": {
            "text/plain": [
              "tensor(0.8691)"
            ]
          },
          "metadata": {},
          "execution_count": 7
        }
      ]
    },
    {
      "cell_type": "code",
      "source": [
        "# Here I removed the double quotes from both statements\n",
        "# Score went even further up\n",
        "# Need to test this again.\n",
        "\n",
        "sql_query_1 = 'SELECT Genre.Name AS Genre, EXTRACT(QUARTER FROM Invoice.InvoiceDate) AS Quarter, SUM(InvoiceLine.UnitPrice * InvoiceLine.Quantity) AS Total Sales FROM Genre\" INNER JOIN Track ON Genre.GenreId = Track.GenreId INNER JOIN InvoiceLine ON Track.TrackId = InvoiceLine.TrackId INNER JOIN Invoice ON InvoiceLine.InvoiceId = Invoice.InvoiceId GROUP BY Genre, Quarter'\n",
        "\n",
        "sql_query_2 = 'SELECT Genre.Name, SUM(InvoiceLine.UnitPrice * InvoiceLine.Quantity) AS Total Sales FROM Genre INNER JOIN Track ON Genre.GenreId = Track.GenreId INNER JOIN InvoiceLine ON Track.TrackId = InvoiceLine.TrackId GROUP BY Genre.Name ORDER BY Total Sales DESC LIMIT 5;'\n",
        "\n",
        "# Get the embeddings and convert them into tensors\n",
        "sql_query_1_embedding = torch.FloatTensor(get_embedding(text=sql_query_1))\n",
        "sql_query_2_embedding = torch.FloatTensor(get_embedding(text=sql_query_2))\n",
        "\n",
        "# Get the dot product/similarity score\n",
        "torch.dot(sql_query_1_embedding, sql_query_2_embedding)"
      ],
      "metadata": {
        "id": "U9Wn60zanlv9",
        "outputId": "7794eac3-285e-48e9-9fbc-66a0601115f7",
        "colab": {
          "base_uri": "https://localhost:8080/"
        }
      },
      "execution_count": 8,
      "outputs": [
        {
          "output_type": "execute_result",
          "data": {
            "text/plain": [
              "tensor(0.8727)"
            ]
          },
          "metadata": {},
          "execution_count": 8
        }
      ]
    }
  ],
  "metadata": {
    "kernelspec": {
      "display_name": "base",
      "language": "python",
      "name": "python3"
    },
    "language_info": {
      "codemirror_mode": {
        "name": "ipython",
        "version": 3
      },
      "file_extension": ".py",
      "mimetype": "text/x-python",
      "name": "python",
      "nbconvert_exporter": "python",
      "pygments_lexer": "ipython3",
      "version": "3.9.13"
    },
    "orig_nbformat": 4,
    "colab": {
      "provenance": [],
      "include_colab_link": true
    }
  },
  "nbformat": 4,
  "nbformat_minor": 0
}