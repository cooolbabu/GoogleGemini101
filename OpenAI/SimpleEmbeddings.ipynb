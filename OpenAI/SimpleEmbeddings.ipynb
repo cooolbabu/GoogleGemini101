{
  "cells": [
    {
      "cell_type": "markdown",
      "metadata": {
        "id": "view-in-github",
        "colab_type": "text"
      },
      "source": [
        "<a href=\"https://colab.research.google.com/github/cooolbabu/GoogleGemini101/blob/main/OpenAI/SimpleEmbeddings.ipynb\" target=\"_parent\"><img src=\"https://colab.research.google.com/assets/colab-badge.svg\" alt=\"Open In Colab\"/></a>"
      ]
    },
    {
      "cell_type": "markdown",
      "source": [
        "# Simple embeddings"
      ],
      "metadata": {
        "id": "I2v1Y9nvJuNJ"
      }
    },
    {
      "cell_type": "markdown",
      "metadata": {
        "id": "bbzGYCzCC7wY"
      },
      "source": [
        "# Installation\n"
      ]
    },
    {
      "cell_type": "code",
      "execution_count": null,
      "metadata": {
        "id": "1nS1SD2pC7wZ",
        "outputId": "ec1e8202-2848-4d3b-9841-83df5fda27bd",
        "colab": {
          "base_uri": "https://localhost:8080/"
        }
      },
      "outputs": [
        {
          "output_type": "stream",
          "name": "stdout",
          "text": [
            "\u001b[2K     \u001b[90m━━━━━━━━━━━━━━━━━━━━━━━━━━━━━━━━━━━━━━━━\u001b[0m \u001b[32m262.9/262.9 kB\u001b[0m \u001b[31m4.6 MB/s\u001b[0m eta \u001b[36m0:00:00\u001b[0m\n",
            "\u001b[2K     \u001b[90m━━━━━━━━━━━━━━━━━━━━━━━━━━━━━━━━━━━━━━━━\u001b[0m \u001b[32m75.6/75.6 kB\u001b[0m \u001b[31m7.4 MB/s\u001b[0m eta \u001b[36m0:00:00\u001b[0m\n",
            "\u001b[2K     \u001b[90m━━━━━━━━━━━━━━━━━━━━━━━━━━━━━━━━━━━━━━━━\u001b[0m \u001b[32m77.9/77.9 kB\u001b[0m \u001b[31m7.5 MB/s\u001b[0m eta \u001b[36m0:00:00\u001b[0m\n",
            "\u001b[2K     \u001b[90m━━━━━━━━━━━━━━━━━━━━━━━━━━━━━━━━━━━━━━━━\u001b[0m \u001b[32m58.3/58.3 kB\u001b[0m \u001b[31m5.0 MB/s\u001b[0m eta \u001b[36m0:00:00\u001b[0m\n",
            "\u001b[2K     \u001b[90m━━━━━━━━━━━━━━━━━━━━━━━━━━━━━━━━━━━━━━━━\u001b[0m \u001b[32m44.3/44.3 kB\u001b[0m \u001b[31m2.1 MB/s\u001b[0m eta \u001b[36m0:00:00\u001b[0m\n",
            "\u001b[2K     \u001b[90m━━━━━━━━━━━━━━━━━━━━━━━━━━━━━━━━━━━━━━━━\u001b[0m \u001b[32m130.2/130.2 kB\u001b[0m \u001b[31m7.8 MB/s\u001b[0m eta \u001b[36m0:00:00\u001b[0m\n",
            "\u001b[2K     \u001b[90m━━━━━━━━━━━━━━━━━━━━━━━━━━━━━━━━━━━━━━━━\u001b[0m \u001b[32m334.7/334.7 kB\u001b[0m \u001b[31m6.7 MB/s\u001b[0m eta \u001b[36m0:00:00\u001b[0m\n",
            "\u001b[?25h"
          ]
        }
      ],
      "source": [
        "!pip install openai -q\n",
        "!pip install supabase -q\n",
        "!pip install pyodbc -q"
      ]
    },
    {
      "cell_type": "markdown",
      "source": [
        "## Get API Keys and setup"
      ],
      "metadata": {
        "id": "5T7pw0W2w2BF"
      }
    },
    {
      "cell_type": "code",
      "execution_count": null,
      "metadata": {
        "id": "jXVnzXnDC7wa"
      },
      "outputs": [],
      "source": [
        "from openai import OpenAI\n",
        "\n",
        "from supabase import create_client, Client\n",
        "\n",
        "from sqlalchemy import create_engine, text\n",
        "from sqlalchemy.orm import sessionmaker\n",
        "\n",
        "import pandas as pd\n",
        "import pyodbc\n",
        "\n",
        "import requests\n",
        "import json\n",
        "from google.colab import userdata\n",
        "\n",
        "# setup the gemini pro\n",
        "# gemini_llm = ChatGoogleGenerativeAI(model=\"gemini-pro\",temperature=0.3, google_api_key=userdata.get('Gemini_API_Key'))\n",
        "\n",
        "# setup Supabase connection\n",
        "supabase_url = userdata.get('SUPABASE_URL')\n",
        "supabase_key = userdata.get('SUPABASE_KEY')\n",
        "supabase_client = create_client(supabase_url, supabase_key)\n",
        "\n",
        "# OpenAI key\n",
        "openai_api_key = userdata.get('OPENAI_API_KEY')\n",
        "openai_client = OpenAI(api_key=openai_api_key)\n"
      ]
    },
    {
      "cell_type": "markdown",
      "source": [
        "## Helper functions to run code\n"
      ],
      "metadata": {
        "id": "uw8TgkuKyCyn"
      }
    },
    {
      "cell_type": "code",
      "source": [
        "#\n",
        "# Retrieve a file from Github Repository\n",
        "\n",
        "def get_ChinookDB_ER_from_github(file_url):\n",
        "\n",
        "  # Send a GET request to the file URL\n",
        "  response = requests.get(file_url)\n",
        "\n",
        "  # Check if the request was successful\n",
        "  if response.status_code == 200:\n",
        "      # Get the content of the file\n",
        "      file_content = response.text\n",
        "      return file_content\n",
        "  else:\n",
        "      return(f'Failed to retrieve the file: {response.status_code}')"
      ],
      "metadata": {
        "id": "nPwy-8hXGX9Q"
      },
      "execution_count": null,
      "outputs": []
    },
    {
      "cell_type": "markdown",
      "source": [
        "## Test connection to\n",
        "\n",
        "- Supabase\n",
        "- [https://github.com/lerocha/chinook-database](https://github.com/lerocha/chinook-database)"
      ],
      "metadata": {
        "id": "RH4MVLWMxJxd"
      }
    },
    {
      "cell_type": "code",
      "source": [
        "## Testing connection to Supabase using Supabase client. A simple sanity check\n",
        "\n",
        "response = supabase_client.table('Customer').select(\"*\").execute()\n",
        "\n",
        "## response object has data attribute that contains the result\n",
        "## response.data\n",
        "response_df = pd.DataFrame(response.data)\n",
        "response_df.head(3)\n"
      ],
      "metadata": {
        "id": "jkDq-Myfvbrr"
      },
      "execution_count": null,
      "outputs": []
    },
    {
      "cell_type": "code",
      "source": [],
      "metadata": {
        "id": "e2LHGAW9vEOB"
      },
      "execution_count": null,
      "outputs": []
    },
    {
      "cell_type": "markdown",
      "source": [
        "## Get OpenAI assistant"
      ],
      "metadata": {
        "id": "ipCbGfoGvE-N"
      }
    },
    {
      "cell_type": "code",
      "source": [
        "## OpenAI assistant and attached file details are shown at the end of this notebook\n",
        "\n",
        "# Get OpenAI assistant\n",
        "db_assistant = openai_client.beta.assistants.retrieve(\"asst_v3MqBfnVWdywefUUKPTIIB0P\")\n",
        "\n",
        "# Start a new thread to chat with OpenAI\n",
        "thread = openai_client.beta.threads.create()\n",
        "\n",
        "# Let's ask the first question - How many employees are there?\n",
        "thread_message = openai_client.beta.threads.messages.create(\n",
        "    thread_id = thread.id,\n",
        "    role=\"user\",\n",
        "    content=\"How many employees are there?\",\n",
        "    )\n",
        "run_1 = openai_client.beta.threads.runs.create(\n",
        "    thread_id=thread.id,\n",
        "    assistant_id=db_assistant.id)"
      ],
      "metadata": {
        "id": "i3JcRkeD3ulA"
      },
      "execution_count": null,
      "outputs": []
    },
    {
      "cell_type": "code",
      "source": [
        "print(run_1)\n"
      ],
      "metadata": {
        "id": "4Xb1ucDQH3v1",
        "outputId": "dd521915-d087-4812-d1b1-9a324f45d188",
        "colab": {
          "base_uri": "https://localhost:8080/"
        }
      },
      "execution_count": null,
      "outputs": [
        {
          "output_type": "stream",
          "name": "stdout",
          "text": [
            "Run(id='run_f6pMVmS6YX91jEvw9c0Zb5bz', assistant_id='asst_v3MqBfnVWdywefUUKPTIIB0P', cancelled_at=None, completed_at=None, created_at=1711848697, expires_at=1711849297, failed_at=None, file_ids=['file-nYMstH2zqNqOYe8N4YXqV7iI'], instructions='You are a Data Architect for ChinookDB. \\n1. The mermaid ER script is in the attached file. \\n2. Load and analyze the ER  script from the file provided by me.\\n3. I will ask you to write SQL queries \\n4. You will use this ER diagram to deliver SQL queries. \\n5. Database is postgres. \\n6. Use quotes for database object names in SQL\\n7. Your response will be JSON object, containing two parts. SQL code and Explanation.', last_error=None, metadata={}, model='gpt-4-turbo-preview', object='thread.run', required_action=None, started_at=None, status='queued', thread_id='thread_rTx0GqPG1pL6v9N2439A4OE0', tools=[CodeInterpreterTool(type='code_interpreter')], usage=None, temperature=1.0)\n"
          ]
        }
      ]
    },
    {
      "cell_type": "code",
      "source": [
        "# Let's ask another question - How many employees are there?\n",
        "thread_message = openai_client.beta.threads.messages.create(\n",
        "    thread_id = thread.id,\n",
        "    role=\"user\",\n",
        "    content=\"Give me total sales by genre for all genres\",\n",
        "    )\n",
        "run_2 = openai_client.beta.threads.runs.create(\n",
        "    thread_id=thread.id,\n",
        "    assistant_id=db_assistant.id)"
      ],
      "metadata": {
        "id": "r4-yY7a17GzA"
      },
      "execution_count": null,
      "outputs": []
    },
    {
      "cell_type": "code",
      "source": [
        "print(run_2)"
      ],
      "metadata": {
        "id": "aZ0SszdvIqJ1",
        "outputId": "870b28f5-76d1-4819-e7cc-8a424b24bf62",
        "colab": {
          "base_uri": "https://localhost:8080/"
        }
      },
      "execution_count": null,
      "outputs": [
        {
          "output_type": "stream",
          "name": "stdout",
          "text": [
            "Run(id='run_XKEdOj22UFv1yxzb8hQuLiAc', assistant_id='asst_v3MqBfnVWdywefUUKPTIIB0P', cancelled_at=None, completed_at=None, created_at=1711848779, expires_at=1711849379, failed_at=None, file_ids=['file-nYMstH2zqNqOYe8N4YXqV7iI'], instructions='You are a Data Architect for ChinookDB. \\n1. The mermaid ER script is in the attached file. \\n2. Load and analyze the ER  script from the file provided by me.\\n3. I will ask you to write SQL queries \\n4. You will use this ER diagram to deliver SQL queries. \\n5. Database is postgres. \\n6. Use quotes for database object names in SQL\\n7. Your response will be JSON object, containing two parts. SQL code and Explanation.', last_error=None, metadata={}, model='gpt-4-turbo-preview', object='thread.run', required_action=None, started_at=None, status='queued', thread_id='thread_rTx0GqPG1pL6v9N2439A4OE0', tools=[CodeInterpreterTool(type='code_interpreter')], usage=None, temperature=1.0)\n"
          ]
        }
      ]
    },
    {
      "cell_type": "code",
      "source": [
        "# Retrieve the chat history\n",
        "\n",
        "history = openai_client.beta.threads.messages.list(thread_id=thread.id)\n",
        "\n",
        "messages = history.data[::-1]\n",
        "for i in messages:\n",
        "    if(i.role.upper() == \"USER\"):\n",
        "      print(\"\\n\",\"*\"*60)\n",
        "    print(i.role.upper() + \": \"+ i.content[0].text.value)"
      ],
      "metadata": {
        "id": "d36nnraO3ug1",
        "outputId": "1f8c1a11-e1f2-4c89-9965-603c90df22df",
        "colab": {
          "base_uri": "https://localhost:8080/"
        }
      },
      "execution_count": null,
      "outputs": [
        {
          "output_type": "stream",
          "name": "stdout",
          "text": [
            "\n",
            " ************************************************************\n",
            "USER: How many employees are there?\n",
            "ASSISTANT: Based on the initial content of the ER diagram, it seems the diagram includes definitions for several entities like `Album`, `Artist`, and `Customer`, but doesn't directly display the `Employee` entity in the snippet provided. I will search for the `Employee` entity definition within the rest of the document to write an accurate SQL query.\n",
            "ASSISTANT: The `Employee` entity is indeed part of the ER diagram. Now, I will proceed to write an SQL query to count the number of employees in the database.\n",
            "ASSISTANT: ```json\n",
            "{\n",
            "  \"SQL code\": \"SELECT COUNT(\\\"EmployeeId\\\") AS employee_count FROM \\\"Employee\\\";\",\n",
            "  \"Explanation\": \"This SQL query is used to count the total number of employees in the 'Employee' table. It uses the COUNT aggregation function on the primary key 'EmployeeId' to ensure that only unique records are counted. The result is aliased as 'employee_count' for clarity.\"\n",
            "}\n",
            "```\n",
            "\n",
            " ************************************************************\n",
            "USER: Give me total sales by genre for all genres\n",
            "ASSISTANT: ```json\n",
            "{\n",
            "  \"SQL code\": \"SELECT g.\\\"Name\\\" AS genre, SUM(il.\\\"UnitPrice\\\" * il.\\\"Quantity\\\") AS total_sales FROM \\\"Genre\\\" g JOIN \\\"Track\\\" t ON g.\\\"GenreId\\\" = t.\\\"GenreId\\\" JOIN \\\"InvoiceLine\\\" il ON t.\\\"TrackId\\\" = il.\\\"TrackId\\\" GROUP BY g.\\\"GenreId\\\" ORDER BY total_sales DESC;\",\n",
            "  \"Explanation\": \"This SQL query calculates the total sales for each music genre. It does this by joining the 'Genre', 'Track', and 'InvoiceLine' tables using the appropriate foreign key relationships ('GenreId' and 'TrackId'). For each genre, it multiplies the 'UnitPrice' by the 'Quantity' of tracks sold (from the 'InvoiceLine' table) and sums these amounts to get the total sales. These totals are grouped by genre and ordered in descending order of total sales. The result includes the genre name and its corresponding total sales.\"\n",
            "}\n",
            "```\n"
          ]
        }
      ]
    },
    {
      "cell_type": "code",
      "source": [
        "print(history.model_dump_json(indent=4))\n"
      ],
      "metadata": {
        "id": "tBnWyrv_3uCe",
        "outputId": "f4a790f3-30fa-4af1-ffa6-429ac1223786",
        "colab": {
          "base_uri": "https://localhost:8080/"
        }
      },
      "execution_count": null,
      "outputs": [
        {
          "output_type": "stream",
          "name": "stdout",
          "text": [
            "{\n",
            "    \"data\": [\n",
            "        {\n",
            "            \"id\": \"msg_c0UzGc9w1weUPy2kKo5PslwK\",\n",
            "            \"assistant_id\": \"asst_v3MqBfnVWdywefUUKPTIIB0P\",\n",
            "            \"completed_at\": null,\n",
            "            \"content\": [\n",
            "                {\n",
            "                    \"text\": {\n",
            "                        \"annotations\": [],\n",
            "                        \"value\": \"```json\\n{\\n  \\\"SQL code\\\": \\\"SELECT g.\\\\\\\"Name\\\\\\\" AS genre, SUM(il.\\\\\\\"UnitPrice\\\\\\\" * il.\\\\\\\"Quantity\\\\\\\") AS total_sales FROM \\\\\\\"Genre\\\\\\\" g JOIN \\\\\\\"Track\\\\\\\" t ON g.\\\\\\\"GenreId\\\\\\\" = t.\\\\\\\"GenreId\\\\\\\" JOIN \\\\\\\"InvoiceLine\\\\\\\" il ON t.\\\\\\\"TrackId\\\\\\\" = il.\\\\\\\"TrackId\\\\\\\" GROUP BY g.\\\\\\\"GenreId\\\\\\\" ORDER BY total_sales DESC;\\\",\\n  \\\"Explanation\\\": \\\"This SQL query calculates the total sales for each music genre. It does this by joining the 'Genre', 'Track', and 'InvoiceLine' tables using the appropriate foreign key relationships ('GenreId' and 'TrackId'). For each genre, it multiplies the 'UnitPrice' by the 'Quantity' of tracks sold (from the 'InvoiceLine' table) and sums these amounts to get the total sales. These totals are grouped by genre and ordered in descending order of total sales. The result includes the genre name and its corresponding total sales.\\\"\\n}\\n```\"\n",
            "                    },\n",
            "                    \"type\": \"text\"\n",
            "                }\n",
            "            ],\n",
            "            \"created_at\": 1711848698,\n",
            "            \"file_ids\": [],\n",
            "            \"incomplete_at\": null,\n",
            "            \"incomplete_details\": null,\n",
            "            \"metadata\": {},\n",
            "            \"object\": \"thread.message\",\n",
            "            \"role\": \"assistant\",\n",
            "            \"run_id\": \"run_f6pMVmS6YX91jEvw9c0Zb5bz\",\n",
            "            \"status\": null,\n",
            "            \"thread_id\": \"thread_rTx0GqPG1pL6v9N2439A4OE0\"\n",
            "        },\n",
            "        {\n",
            "            \"id\": \"msg_J2VVbjvGjIsXisz6C53mk9pl\",\n",
            "            \"assistant_id\": null,\n",
            "            \"completed_at\": null,\n",
            "            \"content\": [\n",
            "                {\n",
            "                    \"text\": {\n",
            "                        \"annotations\": [],\n",
            "                        \"value\": \"Give me total sales by genre for all genres\"\n",
            "                    },\n",
            "                    \"type\": \"text\"\n",
            "                }\n",
            "            ],\n",
            "            \"created_at\": 1711848697,\n",
            "            \"file_ids\": [],\n",
            "            \"incomplete_at\": null,\n",
            "            \"incomplete_details\": null,\n",
            "            \"metadata\": {},\n",
            "            \"object\": \"thread.message\",\n",
            "            \"role\": \"user\",\n",
            "            \"run_id\": null,\n",
            "            \"status\": null,\n",
            "            \"thread_id\": \"thread_rTx0GqPG1pL6v9N2439A4OE0\"\n",
            "        },\n",
            "        {\n",
            "            \"id\": \"msg_jjJbUPnvb5gjt8ufhMclgPPn\",\n",
            "            \"assistant_id\": \"asst_v3MqBfnVWdywefUUKPTIIB0P\",\n",
            "            \"completed_at\": null,\n",
            "            \"content\": [\n",
            "                {\n",
            "                    \"text\": {\n",
            "                        \"annotations\": [],\n",
            "                        \"value\": \"```json\\n{\\n  \\\"SQL code\\\": \\\"SELECT COUNT(\\\\\\\"EmployeeId\\\\\\\") AS employee_count FROM \\\\\\\"Employee\\\\\\\";\\\",\\n  \\\"Explanation\\\": \\\"This SQL query is used to count the total number of employees in the 'Employee' table. It uses the COUNT aggregation function on the primary key 'EmployeeId' to ensure that only unique records are counted. The result is aliased as 'employee_count' for clarity.\\\"\\n}\\n```\"\n",
            "                    },\n",
            "                    \"type\": \"text\"\n",
            "                }\n",
            "            ],\n",
            "            \"created_at\": 1711848513,\n",
            "            \"file_ids\": [],\n",
            "            \"incomplete_at\": null,\n",
            "            \"incomplete_details\": null,\n",
            "            \"metadata\": {},\n",
            "            \"object\": \"thread.message\",\n",
            "            \"role\": \"assistant\",\n",
            "            \"run_id\": \"run_OlBFjLDiauKbw4zbwsJDnWii\",\n",
            "            \"status\": null,\n",
            "            \"thread_id\": \"thread_rTx0GqPG1pL6v9N2439A4OE0\"\n",
            "        },\n",
            "        {\n",
            "            \"id\": \"msg_cwT8x0YIPXryTzvWaP0QuuiI\",\n",
            "            \"assistant_id\": \"asst_v3MqBfnVWdywefUUKPTIIB0P\",\n",
            "            \"completed_at\": null,\n",
            "            \"content\": [\n",
            "                {\n",
            "                    \"text\": {\n",
            "                        \"annotations\": [],\n",
            "                        \"value\": \"The `Employee` entity is indeed part of the ER diagram. Now, I will proceed to write an SQL query to count the number of employees in the database.\"\n",
            "                    },\n",
            "                    \"type\": \"text\"\n",
            "                }\n",
            "            ],\n",
            "            \"created_at\": 1711848512,\n",
            "            \"file_ids\": [],\n",
            "            \"incomplete_at\": null,\n",
            "            \"incomplete_details\": null,\n",
            "            \"metadata\": {},\n",
            "            \"object\": \"thread.message\",\n",
            "            \"role\": \"assistant\",\n",
            "            \"run_id\": \"run_OlBFjLDiauKbw4zbwsJDnWii\",\n",
            "            \"status\": null,\n",
            "            \"thread_id\": \"thread_rTx0GqPG1pL6v9N2439A4OE0\"\n",
            "        },\n",
            "        {\n",
            "            \"id\": \"msg_9uuLUyZeOMdtuWuWOfR7xplN\",\n",
            "            \"assistant_id\": \"asst_v3MqBfnVWdywefUUKPTIIB0P\",\n",
            "            \"completed_at\": null,\n",
            "            \"content\": [\n",
            "                {\n",
            "                    \"text\": {\n",
            "                        \"annotations\": [],\n",
            "                        \"value\": \"Based on the initial content of the ER diagram, it seems the diagram includes definitions for several entities like `Album`, `Artist`, and `Customer`, but doesn't directly display the `Employee` entity in the snippet provided. I will search for the `Employee` entity definition within the rest of the document to write an accurate SQL query.\"\n",
            "                    },\n",
            "                    \"type\": \"text\"\n",
            "                }\n",
            "            ],\n",
            "            \"created_at\": 1711848508,\n",
            "            \"file_ids\": [],\n",
            "            \"incomplete_at\": null,\n",
            "            \"incomplete_details\": null,\n",
            "            \"metadata\": {},\n",
            "            \"object\": \"thread.message\",\n",
            "            \"role\": \"assistant\",\n",
            "            \"run_id\": \"run_OlBFjLDiauKbw4zbwsJDnWii\",\n",
            "            \"status\": null,\n",
            "            \"thread_id\": \"thread_rTx0GqPG1pL6v9N2439A4OE0\"\n",
            "        },\n",
            "        {\n",
            "            \"id\": \"msg_Ts8tv9IhlVyYt5snVkI1oXZf\",\n",
            "            \"assistant_id\": null,\n",
            "            \"completed_at\": null,\n",
            "            \"content\": [\n",
            "                {\n",
            "                    \"text\": {\n",
            "                        \"annotations\": [],\n",
            "                        \"value\": \"How many employees are there?\"\n",
            "                    },\n",
            "                    \"type\": \"text\"\n",
            "                }\n",
            "            ],\n",
            "            \"created_at\": 1711848503,\n",
            "            \"file_ids\": [],\n",
            "            \"incomplete_at\": null,\n",
            "            \"incomplete_details\": null,\n",
            "            \"metadata\": {},\n",
            "            \"object\": \"thread.message\",\n",
            "            \"role\": \"user\",\n",
            "            \"run_id\": null,\n",
            "            \"status\": null,\n",
            "            \"thread_id\": \"thread_rTx0GqPG1pL6v9N2439A4OE0\"\n",
            "        }\n",
            "    ],\n",
            "    \"object\": \"list\",\n",
            "    \"first_id\": \"msg_c0UzGc9w1weUPy2kKo5PslwK\",\n",
            "    \"last_id\": \"msg_Ts8tv9IhlVyYt5snVkI1oXZf\",\n",
            "    \"has_more\": false\n",
            "}\n"
          ]
        }
      ]
    },
    {
      "cell_type": "code",
      "source": [
        "# Inspect db_assistant\n",
        "# print(db_assistant)\n",
        "# print(db_assistant.data)\n",
        "# print(db_assistant.model_dump_json(indent=4))"
      ],
      "metadata": {
        "id": "l_8l0pmxGIzp"
      },
      "execution_count": null,
      "outputs": []
    },
    {
      "cell_type": "code",
      "source": [
        "# Display OpenAI Assistant info\n",
        "\n",
        "print(db_assistant.model_dump_json(indent=4))"
      ],
      "metadata": {
        "id": "mT79WZm_29sH",
        "outputId": "8ba27d10-69de-4bb9-c857-3182b3ad25c3",
        "colab": {
          "base_uri": "https://localhost:8080/"
        }
      },
      "execution_count": null,
      "outputs": [
        {
          "output_type": "stream",
          "name": "stdout",
          "text": [
            "{\n",
            "    \"id\": \"asst_v3MqBfnVWdywefUUKPTIIB0P\",\n",
            "    \"created_at\": 1711830731,\n",
            "    \"description\": null,\n",
            "    \"file_ids\": [\n",
            "        \"file-nYMstH2zqNqOYe8N4YXqV7iI\"\n",
            "    ],\n",
            "    \"instructions\": \"You are a Data Architect for ChinookDB. The mermaid ER script is in the attached file. Load and analyze the ER  script from the file provided by me. I will ask you to write queries and you will use this ER diagram to deliver SQL queries. Database is postgres. use quotes for database object names in SQL\",\n",
            "    \"metadata\": {},\n",
            "    \"model\": \"gpt-4-turbo-preview\",\n",
            "    \"name\": \"ChinookDB\",\n",
            "    \"object\": \"assistant\",\n",
            "    \"tools\": [\n",
            "        {\n",
            "            \"type\": \"code_interpreter\"\n",
            "        }\n",
            "    ]\n",
            "}\n"
          ]
        }
      ]
    },
    {
      "cell_type": "code",
      "source": [
        "chinookDB_ER = get_ChinookDB_ER_from_github('https://raw.githubusercontent.com/cooolbabu/GoogleGemini101/main/OpenAI/ChinookDB_ER.txt')\n",
        "print(chinookDB_ER)"
      ],
      "metadata": {
        "id": "C6zaSCTWtx7V",
        "outputId": "c58fdd20-45f5-488c-b074-8893c2022432",
        "colab": {
          "base_uri": "https://localhost:8080/"
        }
      },
      "execution_count": null,
      "outputs": [
        {
          "output_type": "stream",
          "name": "stdout",
          "text": [
            "erDiagram\r\n",
            "    Album {\r\n",
            "        integer AlbumId PK\r\n",
            "        varchar Title\r\n",
            "        integer ArtistId FK\r\n",
            "    }\r\n",
            "\r\n",
            "    Artist {\r\n",
            "        integer ArtistId PK\r\n",
            "        varchar Name\r\n",
            "    }\r\n",
            "\r\n",
            "    Customer {\r\n",
            "        integer CustomerId PK\r\n",
            "        varchar FirstName\r\n",
            "        varchar LastName\r\n",
            "        varchar Company\r\n",
            "        varchar Address\r\n",
            "        varchar City\r\n",
            "        varchar State\r\n",
            "        varchar Country\r\n",
            "        varchar PostalCode\r\n",
            "        varchar Phone\r\n",
            "        varchar Fax\r\n",
            "        varchar Email\r\n",
            "        integer SupportRepId FK\r\n",
            "    }\r\n",
            "\r\n",
            "    Employee {\r\n",
            "        integer EmployeeId PK\r\n",
            "        varchar LastName\r\n",
            "        varchar FirstName\r\n",
            "        varchar Title\r\n",
            "        integer ReportsTo FK\r\n",
            "        datetime BirthDate\r\n",
            "        datetime HireDate\r\n",
            "        varchar Address\r\n",
            "        varchar City\r\n",
            "        varchar State\r\n",
            "        varchar Country\r\n",
            "        varchar PostalCode\r\n",
            "        varchar Phone\r\n",
            "        varchar Fax\r\n",
            "        varchar Email\r\n",
            "    }\r\n",
            "\r\n",
            "    Genre {\r\n",
            "        integer GenreId PK\r\n",
            "        varchar Name\r\n",
            "    }\r\n",
            "\r\n",
            "    Invoice {\r\n",
            "        integer InvoiceId PK\r\n",
            "        integer CustomerId FK\r\n",
            "        datetime InvoiceDate\r\n",
            "        varchar BillingAddress\r\n",
            "        varchar BillingCity\r\n",
            "        varchar BillingState\r\n",
            "        varchar BillingCountry\r\n",
            "        varchar BillingPostalCode\r\n",
            "        numeric Total\r\n",
            "    }\r\n",
            "\r\n",
            "    InvoiceLine {\r\n",
            "        integer InvoiceLineId PK\r\n",
            "        integer InvoiceId FK\r\n",
            "        integer TrackId FK\r\n",
            "        numeric UnitPrice\r\n",
            "        integer Quantity\r\n",
            "    }\r\n",
            "\r\n",
            "    MediaType {\r\n",
            "        integer MediaTypeId PK\r\n",
            "        varchar Name\r\n",
            "    }\r\n",
            "\r\n",
            "    Playlist {\r\n",
            "        integer PlaylistId PK\r\n",
            "        varchar Name\r\n",
            "    }\r\n",
            "\r\n",
            "    PlaylistTrack {\r\n",
            "        integer PlaylistId FK\r\n",
            "        integer TrackId FK\r\n",
            "        constraint PK_PlaylistTrack PRIMARY\r\n",
            "    }\r\n",
            "\r\n",
            "    Track {\r\n",
            "        integer TrackId PK\r\n",
            "        varchar Name\r\n",
            "        integer AlbumId FK\r\n",
            "        integer MediaTypeId FK\r\n",
            "        integer GenreId FK\r\n",
            "        varchar Composer\r\n",
            "        integer Milliseconds\r\n",
            "        integer Bytes\r\n",
            "        numeric UnitPrice\r\n",
            "    }\r\n",
            "\r\n",
            "    Album ||--o{ Artist : \"ArtistId\"\r\n",
            "    Customer ||--o{ Employee : \"SupportRepId\"\r\n",
            "    Invoice ||--o{ Customer : \"CustomerId\"\r\n",
            "    InvoiceLine ||--o{ Invoice : \"InvoiceId\"\r\n",
            "    InvoiceLine ||--o{ Track : \"TrackId\"\r\n",
            "    PlaylistTrack ||--o{ Playlist : \"PlaylistId\"\r\n",
            "    PlaylistTrack ||--o{ Track : \"TrackId\"\r\n",
            "    Track ||--o{ Album : \"AlbumId\"\r\n",
            "    Track ||--o{ MediaType : \"MediaTypeId\"\r\n",
            "    Track ||--o{ Genre : \"GenreId\"\r\n",
            "\n"
          ]
        }
      ]
    },
    {
      "cell_type": "code",
      "source": [
        "\n"
      ],
      "metadata": {
        "id": "5MLSFItQVgVX"
      },
      "execution_count": null,
      "outputs": []
    }
  ],
  "metadata": {
    "kernelspec": {
      "display_name": "base",
      "language": "python",
      "name": "python3"
    },
    "language_info": {
      "codemirror_mode": {
        "name": "ipython",
        "version": 3
      },
      "file_extension": ".py",
      "mimetype": "text/x-python",
      "name": "python",
      "nbconvert_exporter": "python",
      "pygments_lexer": "ipython3",
      "version": "3.9.13"
    },
    "orig_nbformat": 4,
    "colab": {
      "provenance": [],
      "include_colab_link": true
    }
  },
  "nbformat": 4,
  "nbformat_minor": 0
}