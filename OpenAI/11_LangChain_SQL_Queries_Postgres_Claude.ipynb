{
  "cells": [
    {
      "cell_type": "markdown",
      "metadata": {
        "id": "view-in-github",
        "colab_type": "text"
      },
      "source": [
        "<a href=\"https://colab.research.google.com/github/cooolbabu/GoogleGemini101/blob/main/OpenAI/11_LangChain_SQL_Queries_Postgres_Claude.ipynb\" target=\"_parent\"><img src=\"https://colab.research.google.com/assets/colab-badge.svg\" alt=\"Open In Colab\"/></a>"
      ]
    },
    {
      "cell_type": "markdown",
      "source": [
        "# This is a follow-up to Justin Grammens LetsLearnLangChain presentation.\n",
        "# Here we are using Claude for comparision with OpenAI and other LLMs\n",
        "- [Course content on Github](https://github.com/justingrammens/LetsLearnLangChain)\n",
        "- [Youtube link](https://www.youtube.com/watch?v=QT3wALFDZBo)\n",
        "\n"
      ],
      "metadata": {
        "id": "Onaey4D88M3y"
      }
    },
    {
      "cell_type": "markdown",
      "metadata": {
        "id": "bbzGYCzCC7wY"
      },
      "source": [
        "## Installation\n"
      ]
    },
    {
      "cell_type": "code",
      "execution_count": 8,
      "metadata": {
        "id": "1nS1SD2pC7wZ"
      },
      "outputs": [],
      "source": [
        "!pip install langchain langchain_experimental langchain-anthropic -q\n",
        "!pip install supabase -q\n",
        "!pip install pyodbc -q"
      ]
    },
    {
      "cell_type": "markdown",
      "source": [
        "## Helper functions"
      ],
      "metadata": {
        "id": "um30rd-n0v2A"
      }
    },
    {
      "cell_type": "code",
      "source": [
        "#\n",
        "# Retrieve a file from Github Repository\n",
        "\n",
        "def get_ChinookDB_ER_from_github(file_url):\n",
        "\n",
        "  # Send a GET request to the file URL\n",
        "  response = requests.get(file_url)\n",
        "\n",
        "  # Check if the request was successful\n",
        "  if response.status_code == 200:\n",
        "      # Get the content of the file\n",
        "      file_content = response.text\n",
        "      return file_content\n",
        "  else:\n",
        "      return(f'Failed to retrieve the file: {response.status_code}')"
      ],
      "metadata": {
        "id": "e5VzPLyy0wpb"
      },
      "execution_count": 53,
      "outputs": []
    },
    {
      "cell_type": "code",
      "source": [],
      "metadata": {
        "id": "9zfeeBfS1FMK"
      },
      "execution_count": 37,
      "outputs": []
    },
    {
      "cell_type": "code",
      "source": [],
      "metadata": {
        "id": "ZegQrZc41ieL"
      },
      "execution_count": null,
      "outputs": []
    },
    {
      "cell_type": "markdown",
      "source": [
        "## Get API Keys and setup"
      ],
      "metadata": {
        "id": "5T7pw0W2w2BF"
      }
    },
    {
      "cell_type": "code",
      "execution_count": 29,
      "metadata": {
        "id": "jXVnzXnDC7wa"
      },
      "outputs": [],
      "source": [
        "from langchain import PromptTemplate, LLMChain, ConversationChain\n",
        "from langchain_core.messages import SystemMessage\n",
        "from langchain_core.prompts import ChatPromptTemplate\n",
        "from langchain.agents import create_sql_agent\n",
        "from langchain.agents.agent_types import AgentType\n",
        "from langchain.sql_database import SQLDatabase\n",
        "\n",
        "from langchain_experimental.sql import SQLDatabaseChain\n",
        "from langchain_community.agent_toolkits import SQLDatabaseToolkit\n",
        "\n",
        "from langchain_anthropic import ChatAnthropic\n",
        "\n",
        "from supabase import create_client, Client\n",
        "\n",
        "from sqlalchemy import create_engine\n",
        "\n",
        "import requests\n",
        "import json\n",
        "import pandas as pd\n",
        "import pyodbc\n",
        "\n",
        "from google.colab import userdata\n",
        "\n",
        "# setup supabase\n",
        "supabase_url = userdata.get('SUPABASE_URL')\n",
        "supabase_key = userdata.get('SUPABASE_KEY')\n",
        "supabase_client = create_client(supabase_url, supabase_key)\n",
        "\n",
        "# OpenAI key\n",
        "claude_api_key = userdata.get('Claude_api_key')"
      ]
    },
    {
      "cell_type": "code",
      "source": [
        "# Test connection to Supabase using Supabase client\n",
        "\n",
        "# There are 59 records. Displaying the first 3\n",
        "\n",
        "response = supabase_client.table('Customer').select(\"*\").execute()\n",
        "\n",
        "## response object has data attribute that contains the result\n",
        "## response.data\n",
        "response_df = pd.DataFrame(response.data)\n",
        "response_df.head(3)\n"
      ],
      "metadata": {
        "id": "jkDq-Myfvbrr",
        "outputId": "94e7d6a3-a6be-41d0-da33-0307fad0de4f",
        "colab": {
          "base_uri": "https://localhost:8080/",
          "height": 319
        }
      },
      "execution_count": 10,
      "outputs": [
        {
          "output_type": "execute_result",
          "data": {
            "text/plain": [
              "   CustomerId FirstName   LastName  \\\n",
              "0           1      Luís  Gonçalves   \n",
              "1           2    Leonie     Köhler   \n",
              "2           3  François   Tremblay   \n",
              "\n",
              "                                            Company  \\\n",
              "0  Embraer - Empresa Brasileira de Aeronáutica S.A.   \n",
              "1                                              None   \n",
              "2                                              None   \n",
              "\n",
              "                           Address                 City State  Country  \\\n",
              "0  Av. Brigadeiro Faria Lima, 2170  São José dos Campos    SP   Brazil   \n",
              "1          Theodor-Heuss-Straße 34            Stuttgart  None  Germany   \n",
              "2                1498 rue Bélanger             Montréal    QC   Canada   \n",
              "\n",
              "  PostalCode               Phone                 Fax                  Email  \\\n",
              "0  12227-000  +55 (12) 3923-5555  +55 (12) 3923-5566   luisg@embraer.com.br   \n",
              "1      70174    +49 0711 2842222                None  leonekohler@surfeu.de   \n",
              "2    H2G 1A7   +1 (514) 721-4711                None    ftremblay@gmail.com   \n",
              "\n",
              "   SupportRepId  \n",
              "0             3  \n",
              "1             5  \n",
              "2             3  "
            ],
            "text/html": [
              "\n",
              "  <div id=\"df-e6da82de-1cb5-4a48-93a0-ca8a88876942\" class=\"colab-df-container\">\n",
              "    <div>\n",
              "<style scoped>\n",
              "    .dataframe tbody tr th:only-of-type {\n",
              "        vertical-align: middle;\n",
              "    }\n",
              "\n",
              "    .dataframe tbody tr th {\n",
              "        vertical-align: top;\n",
              "    }\n",
              "\n",
              "    .dataframe thead th {\n",
              "        text-align: right;\n",
              "    }\n",
              "</style>\n",
              "<table border=\"1\" class=\"dataframe\">\n",
              "  <thead>\n",
              "    <tr style=\"text-align: right;\">\n",
              "      <th></th>\n",
              "      <th>CustomerId</th>\n",
              "      <th>FirstName</th>\n",
              "      <th>LastName</th>\n",
              "      <th>Company</th>\n",
              "      <th>Address</th>\n",
              "      <th>City</th>\n",
              "      <th>State</th>\n",
              "      <th>Country</th>\n",
              "      <th>PostalCode</th>\n",
              "      <th>Phone</th>\n",
              "      <th>Fax</th>\n",
              "      <th>Email</th>\n",
              "      <th>SupportRepId</th>\n",
              "    </tr>\n",
              "  </thead>\n",
              "  <tbody>\n",
              "    <tr>\n",
              "      <th>0</th>\n",
              "      <td>1</td>\n",
              "      <td>Luís</td>\n",
              "      <td>Gonçalves</td>\n",
              "      <td>Embraer - Empresa Brasileira de Aeronáutica S.A.</td>\n",
              "      <td>Av. Brigadeiro Faria Lima, 2170</td>\n",
              "      <td>São José dos Campos</td>\n",
              "      <td>SP</td>\n",
              "      <td>Brazil</td>\n",
              "      <td>12227-000</td>\n",
              "      <td>+55 (12) 3923-5555</td>\n",
              "      <td>+55 (12) 3923-5566</td>\n",
              "      <td>luisg@embraer.com.br</td>\n",
              "      <td>3</td>\n",
              "    </tr>\n",
              "    <tr>\n",
              "      <th>1</th>\n",
              "      <td>2</td>\n",
              "      <td>Leonie</td>\n",
              "      <td>Köhler</td>\n",
              "      <td>None</td>\n",
              "      <td>Theodor-Heuss-Straße 34</td>\n",
              "      <td>Stuttgart</td>\n",
              "      <td>None</td>\n",
              "      <td>Germany</td>\n",
              "      <td>70174</td>\n",
              "      <td>+49 0711 2842222</td>\n",
              "      <td>None</td>\n",
              "      <td>leonekohler@surfeu.de</td>\n",
              "      <td>5</td>\n",
              "    </tr>\n",
              "    <tr>\n",
              "      <th>2</th>\n",
              "      <td>3</td>\n",
              "      <td>François</td>\n",
              "      <td>Tremblay</td>\n",
              "      <td>None</td>\n",
              "      <td>1498 rue Bélanger</td>\n",
              "      <td>Montréal</td>\n",
              "      <td>QC</td>\n",
              "      <td>Canada</td>\n",
              "      <td>H2G 1A7</td>\n",
              "      <td>+1 (514) 721-4711</td>\n",
              "      <td>None</td>\n",
              "      <td>ftremblay@gmail.com</td>\n",
              "      <td>3</td>\n",
              "    </tr>\n",
              "  </tbody>\n",
              "</table>\n",
              "</div>\n",
              "    <div class=\"colab-df-buttons\">\n",
              "\n",
              "  <div class=\"colab-df-container\">\n",
              "    <button class=\"colab-df-convert\" onclick=\"convertToInteractive('df-e6da82de-1cb5-4a48-93a0-ca8a88876942')\"\n",
              "            title=\"Convert this dataframe to an interactive table.\"\n",
              "            style=\"display:none;\">\n",
              "\n",
              "  <svg xmlns=\"http://www.w3.org/2000/svg\" height=\"24px\" viewBox=\"0 -960 960 960\">\n",
              "    <path d=\"M120-120v-720h720v720H120Zm60-500h600v-160H180v160Zm220 220h160v-160H400v160Zm0 220h160v-160H400v160ZM180-400h160v-160H180v160Zm440 0h160v-160H620v160ZM180-180h160v-160H180v160Zm440 0h160v-160H620v160Z\"/>\n",
              "  </svg>\n",
              "    </button>\n",
              "\n",
              "  <style>\n",
              "    .colab-df-container {\n",
              "      display:flex;\n",
              "      gap: 12px;\n",
              "    }\n",
              "\n",
              "    .colab-df-convert {\n",
              "      background-color: #E8F0FE;\n",
              "      border: none;\n",
              "      border-radius: 50%;\n",
              "      cursor: pointer;\n",
              "      display: none;\n",
              "      fill: #1967D2;\n",
              "      height: 32px;\n",
              "      padding: 0 0 0 0;\n",
              "      width: 32px;\n",
              "    }\n",
              "\n",
              "    .colab-df-convert:hover {\n",
              "      background-color: #E2EBFA;\n",
              "      box-shadow: 0px 1px 2px rgba(60, 64, 67, 0.3), 0px 1px 3px 1px rgba(60, 64, 67, 0.15);\n",
              "      fill: #174EA6;\n",
              "    }\n",
              "\n",
              "    .colab-df-buttons div {\n",
              "      margin-bottom: 4px;\n",
              "    }\n",
              "\n",
              "    [theme=dark] .colab-df-convert {\n",
              "      background-color: #3B4455;\n",
              "      fill: #D2E3FC;\n",
              "    }\n",
              "\n",
              "    [theme=dark] .colab-df-convert:hover {\n",
              "      background-color: #434B5C;\n",
              "      box-shadow: 0px 1px 3px 1px rgba(0, 0, 0, 0.15);\n",
              "      filter: drop-shadow(0px 1px 2px rgba(0, 0, 0, 0.3));\n",
              "      fill: #FFFFFF;\n",
              "    }\n",
              "  </style>\n",
              "\n",
              "    <script>\n",
              "      const buttonEl =\n",
              "        document.querySelector('#df-e6da82de-1cb5-4a48-93a0-ca8a88876942 button.colab-df-convert');\n",
              "      buttonEl.style.display =\n",
              "        google.colab.kernel.accessAllowed ? 'block' : 'none';\n",
              "\n",
              "      async function convertToInteractive(key) {\n",
              "        const element = document.querySelector('#df-e6da82de-1cb5-4a48-93a0-ca8a88876942');\n",
              "        const dataTable =\n",
              "          await google.colab.kernel.invokeFunction('convertToInteractive',\n",
              "                                                    [key], {});\n",
              "        if (!dataTable) return;\n",
              "\n",
              "        const docLinkHtml = 'Like what you see? Visit the ' +\n",
              "          '<a target=\"_blank\" href=https://colab.research.google.com/notebooks/data_table.ipynb>data table notebook</a>'\n",
              "          + ' to learn more about interactive tables.';\n",
              "        element.innerHTML = '';\n",
              "        dataTable['output_type'] = 'display_data';\n",
              "        await google.colab.output.renderOutput(dataTable, element);\n",
              "        const docLink = document.createElement('div');\n",
              "        docLink.innerHTML = docLinkHtml;\n",
              "        element.appendChild(docLink);\n",
              "      }\n",
              "    </script>\n",
              "  </div>\n",
              "\n",
              "\n",
              "<div id=\"df-60c8b589-2f0c-473c-8d9b-179c5c36f101\">\n",
              "  <button class=\"colab-df-quickchart\" onclick=\"quickchart('df-60c8b589-2f0c-473c-8d9b-179c5c36f101')\"\n",
              "            title=\"Suggest charts\"\n",
              "            style=\"display:none;\">\n",
              "\n",
              "<svg xmlns=\"http://www.w3.org/2000/svg\" height=\"24px\"viewBox=\"0 0 24 24\"\n",
              "     width=\"24px\">\n",
              "    <g>\n",
              "        <path d=\"M19 3H5c-1.1 0-2 .9-2 2v14c0 1.1.9 2 2 2h14c1.1 0 2-.9 2-2V5c0-1.1-.9-2-2-2zM9 17H7v-7h2v7zm4 0h-2V7h2v10zm4 0h-2v-4h2v4z\"/>\n",
              "    </g>\n",
              "</svg>\n",
              "  </button>\n",
              "\n",
              "<style>\n",
              "  .colab-df-quickchart {\n",
              "      --bg-color: #E8F0FE;\n",
              "      --fill-color: #1967D2;\n",
              "      --hover-bg-color: #E2EBFA;\n",
              "      --hover-fill-color: #174EA6;\n",
              "      --disabled-fill-color: #AAA;\n",
              "      --disabled-bg-color: #DDD;\n",
              "  }\n",
              "\n",
              "  [theme=dark] .colab-df-quickchart {\n",
              "      --bg-color: #3B4455;\n",
              "      --fill-color: #D2E3FC;\n",
              "      --hover-bg-color: #434B5C;\n",
              "      --hover-fill-color: #FFFFFF;\n",
              "      --disabled-bg-color: #3B4455;\n",
              "      --disabled-fill-color: #666;\n",
              "  }\n",
              "\n",
              "  .colab-df-quickchart {\n",
              "    background-color: var(--bg-color);\n",
              "    border: none;\n",
              "    border-radius: 50%;\n",
              "    cursor: pointer;\n",
              "    display: none;\n",
              "    fill: var(--fill-color);\n",
              "    height: 32px;\n",
              "    padding: 0;\n",
              "    width: 32px;\n",
              "  }\n",
              "\n",
              "  .colab-df-quickchart:hover {\n",
              "    background-color: var(--hover-bg-color);\n",
              "    box-shadow: 0 1px 2px rgba(60, 64, 67, 0.3), 0 1px 3px 1px rgba(60, 64, 67, 0.15);\n",
              "    fill: var(--button-hover-fill-color);\n",
              "  }\n",
              "\n",
              "  .colab-df-quickchart-complete:disabled,\n",
              "  .colab-df-quickchart-complete:disabled:hover {\n",
              "    background-color: var(--disabled-bg-color);\n",
              "    fill: var(--disabled-fill-color);\n",
              "    box-shadow: none;\n",
              "  }\n",
              "\n",
              "  .colab-df-spinner {\n",
              "    border: 2px solid var(--fill-color);\n",
              "    border-color: transparent;\n",
              "    border-bottom-color: var(--fill-color);\n",
              "    animation:\n",
              "      spin 1s steps(1) infinite;\n",
              "  }\n",
              "\n",
              "  @keyframes spin {\n",
              "    0% {\n",
              "      border-color: transparent;\n",
              "      border-bottom-color: var(--fill-color);\n",
              "      border-left-color: var(--fill-color);\n",
              "    }\n",
              "    20% {\n",
              "      border-color: transparent;\n",
              "      border-left-color: var(--fill-color);\n",
              "      border-top-color: var(--fill-color);\n",
              "    }\n",
              "    30% {\n",
              "      border-color: transparent;\n",
              "      border-left-color: var(--fill-color);\n",
              "      border-top-color: var(--fill-color);\n",
              "      border-right-color: var(--fill-color);\n",
              "    }\n",
              "    40% {\n",
              "      border-color: transparent;\n",
              "      border-right-color: var(--fill-color);\n",
              "      border-top-color: var(--fill-color);\n",
              "    }\n",
              "    60% {\n",
              "      border-color: transparent;\n",
              "      border-right-color: var(--fill-color);\n",
              "    }\n",
              "    80% {\n",
              "      border-color: transparent;\n",
              "      border-right-color: var(--fill-color);\n",
              "      border-bottom-color: var(--fill-color);\n",
              "    }\n",
              "    90% {\n",
              "      border-color: transparent;\n",
              "      border-bottom-color: var(--fill-color);\n",
              "    }\n",
              "  }\n",
              "</style>\n",
              "\n",
              "  <script>\n",
              "    async function quickchart(key) {\n",
              "      const quickchartButtonEl =\n",
              "        document.querySelector('#' + key + ' button');\n",
              "      quickchartButtonEl.disabled = true;  // To prevent multiple clicks.\n",
              "      quickchartButtonEl.classList.add('colab-df-spinner');\n",
              "      try {\n",
              "        const charts = await google.colab.kernel.invokeFunction(\n",
              "            'suggestCharts', [key], {});\n",
              "      } catch (error) {\n",
              "        console.error('Error during call to suggestCharts:', error);\n",
              "      }\n",
              "      quickchartButtonEl.classList.remove('colab-df-spinner');\n",
              "      quickchartButtonEl.classList.add('colab-df-quickchart-complete');\n",
              "    }\n",
              "    (() => {\n",
              "      let quickchartButtonEl =\n",
              "        document.querySelector('#df-60c8b589-2f0c-473c-8d9b-179c5c36f101 button');\n",
              "      quickchartButtonEl.style.display =\n",
              "        google.colab.kernel.accessAllowed ? 'block' : 'none';\n",
              "    })();\n",
              "  </script>\n",
              "</div>\n",
              "\n",
              "    </div>\n",
              "  </div>\n"
            ],
            "application/vnd.google.colaboratory.intrinsic+json": {
              "type": "dataframe",
              "variable_name": "response_df",
              "summary": "{\n  \"name\": \"response_df\",\n  \"rows\": 59,\n  \"fields\": [\n    {\n      \"column\": \"CustomerId\",\n      \"properties\": {\n        \"dtype\": \"number\",\n        \"std\": 17,\n        \"min\": 1,\n        \"max\": 59,\n        \"num_unique_values\": 59,\n        \"samples\": [\n          1,\n          6,\n          35\n        ],\n        \"semantic_type\": \"\",\n        \"description\": \"\"\n      }\n    },\n    {\n      \"column\": \"FirstName\",\n      \"properties\": {\n        \"dtype\": \"string\",\n        \"num_unique_values\": 57,\n        \"samples\": [\n          \"Lu\\u00eds\",\n          \"Helena\",\n          \"Aaron\"\n        ],\n        \"semantic_type\": \"\",\n        \"description\": \"\"\n      }\n    },\n    {\n      \"column\": \"LastName\",\n      \"properties\": {\n        \"dtype\": \"string\",\n        \"num_unique_values\": 59,\n        \"samples\": [\n          \"Gon\\u00e7alves\",\n          \"Hol\\u00fd\",\n          \"Sampaio\"\n        ],\n        \"semantic_type\": \"\",\n        \"description\": \"\"\n      }\n    },\n    {\n      \"column\": \"Company\",\n      \"properties\": {\n        \"dtype\": \"category\",\n        \"num_unique_values\": 10,\n        \"samples\": [\n          \"Microsoft Corporation\",\n          \"JetBrains s.r.o.\",\n          \"Telus\"\n        ],\n        \"semantic_type\": \"\",\n        \"description\": \"\"\n      }\n    },\n    {\n      \"column\": \"Address\",\n      \"properties\": {\n        \"dtype\": \"string\",\n        \"num_unique_values\": 59,\n        \"samples\": [\n          \"Av. Brigadeiro Faria Lima, 2170\",\n          \"Rilsk\\u00e1 3174/6\",\n          \"Rua dos Campe\\u00f5es Europeus de Viena, 4350\"\n        ],\n        \"semantic_type\": \"\",\n        \"description\": \"\"\n      }\n    },\n    {\n      \"column\": \"City\",\n      \"properties\": {\n        \"dtype\": \"string\",\n        \"num_unique_values\": 53,\n        \"samples\": [\n          \"Boston\",\n          \"Rome\",\n          \"Edinburgh \"\n        ],\n        \"semantic_type\": \"\",\n        \"description\": \"\"\n      }\n    },\n    {\n      \"column\": \"State\",\n      \"properties\": {\n        \"dtype\": \"category\",\n        \"num_unique_values\": 25,\n        \"samples\": [\n          \"NY\",\n          \"UT\",\n          \"SP\"\n        ],\n        \"semantic_type\": \"\",\n        \"description\": \"\"\n      }\n    },\n    {\n      \"column\": \"Country\",\n      \"properties\": {\n        \"dtype\": \"category\",\n        \"num_unique_values\": 24,\n        \"samples\": [\n          \"USA\",\n          \"Poland\",\n          \"Brazil\"\n        ],\n        \"semantic_type\": \"\",\n        \"description\": \"\"\n      }\n    },\n    {\n      \"column\": \"PostalCode\",\n      \"properties\": {\n        \"dtype\": \"string\",\n        \"num_unique_values\": 55,\n        \"samples\": [\n          \"R3L 2B9\",\n          \"14300\",\n          \"X1A 1N6\"\n        ],\n        \"semantic_type\": \"\",\n        \"description\": \"\"\n      }\n    },\n    {\n      \"column\": \"Phone\",\n      \"properties\": {\n        \"dtype\": \"string\",\n        \"num_unique_values\": 58,\n        \"samples\": [\n          \"+55 (12) 3923-5555\",\n          \"+420 2 4177 0449\",\n          \"+351 (225) 022-448\"\n        ],\n        \"semantic_type\": \"\",\n        \"description\": \"\"\n      }\n    },\n    {\n      \"column\": \"Fax\",\n      \"properties\": {\n        \"dtype\": \"category\",\n        \"num_unique_values\": 12,\n        \"samples\": [\n          \"+1 (212) 221-4679\",\n          \"+1 (425) 882-8081\",\n          \"+55 (12) 3923-5566\"\n        ],\n        \"semantic_type\": \"\",\n        \"description\": \"\"\n      }\n    },\n    {\n      \"column\": \"Email\",\n      \"properties\": {\n        \"dtype\": \"string\",\n        \"num_unique_values\": 59,\n        \"samples\": [\n          \"luisg@embraer.com.br\",\n          \"hholy@gmail.com\",\n          \"masampaio@sapo.pt\"\n        ],\n        \"semantic_type\": \"\",\n        \"description\": \"\"\n      }\n    },\n    {\n      \"column\": \"SupportRepId\",\n      \"properties\": {\n        \"dtype\": \"number\",\n        \"std\": 0,\n        \"min\": 3,\n        \"max\": 5,\n        \"num_unique_values\": 3,\n        \"samples\": [\n          3,\n          5,\n          4\n        ],\n        \"semantic_type\": \"\",\n        \"description\": \"\"\n      }\n    }\n  ]\n}"
            }
          },
          "metadata": {},
          "execution_count": 10
        }
      ]
    },
    {
      "cell_type": "code",
      "source": [
        "# Connecting to Supabase using SQL Alchemy\n",
        "\n",
        "# Make sure the connection string is a proper string within quotes\n",
        "supabase_conn_str = userdata.get('supabase_conn_str')\n",
        "#supabase_conn_str = \"postgresql+psycopg2://[USERID:PASSWORD]@[HOSTNAME:PORT_NUMBER]/[DATABASE_NAME]\"\n",
        "\n",
        "\n",
        "# Use the connection string with SQLAlchemy's create_engine function\n",
        "db_engine = create_engine(supabase_conn_str)\n",
        "db = SQLDatabase(db_engine)\n",
        "\n",
        "# test the connection\n",
        "print(db.dialect)\n",
        "print(db.get_usable_table_names())\n"
      ],
      "metadata": {
        "id": "YCDWQk3iy1vz",
        "colab": {
          "base_uri": "https://localhost:8080/"
        },
        "outputId": "8e85901f-8e78-43fd-a4c9-f76f91620ba4"
      },
      "execution_count": 65,
      "outputs": [
        {
          "output_type": "stream",
          "name": "stdout",
          "text": [
            "postgresql\n",
            "['Album', 'Artist', 'Customer', 'Employee', 'Genre', 'Invoice', 'InvoiceLine', 'MediaType', 'Playlist', 'PlaylistTrack', 'Track', 'countries']\n"
          ]
        }
      ]
    },
    {
      "cell_type": "code",
      "source": [
        "\n",
        "\n",
        "chinookDB_ER_from_github = get_ChinookDB_ER_from_github(\"https://raw.githubusercontent.com/cooolbabu/GoogleGemini101/main/OpenAI/ChinookDB_ER.txt\")\n",
        "# Markdown(chinookDB_ER_from_github) ## uncoment to view file from Github\n",
        "\n",
        "## Build the prompt\n",
        "dba_instructions=\"\"\"\n",
        "1. You are a Data Architect for ChinookDB.\n",
        "2. An entiry-relationship diagram for ChinookDB, in the form of a Mermaid.js script is provide to you\n",
        "3. You will use this ER diagram to deliver SQL queries.\n",
        "4. Database dialect is PostgreSQL\n",
        "5. Use quotes for database object names in SQL statements\n",
        "\n",
        "\"\"\"\n",
        "\n",
        "dba_system_message = SystemMessage(content=dba_instructions + chinookDB_ER_from_github)\n",
        "\n",
        "prompt = ChatPromptTemplate.from_messages([\n",
        "    dba_system_message,\n",
        "    (\"user\", \"{input}\")\n",
        "])\n"
      ],
      "metadata": {
        "id": "OwFmu5nw32Kz"
      },
      "execution_count": 60,
      "outputs": []
    },
    {
      "cell_type": "markdown",
      "source": [
        "## Lets run some chains"
      ],
      "metadata": {
        "id": "MrprCpn13sMk"
      }
    },
    {
      "cell_type": "code",
      "source": [
        "\n",
        "llm = ChatAnthropic(model=\"claude-3-sonnet-20240229\", temperature=0, max_tokens=1024, anthropic_api_key= claude_api_key)\n",
        "db_chain = SQLDatabaseChain.from_llm(llm, db, verbose=True)\n"
      ],
      "metadata": {
        "id": "U6ZaxFN_wJyU"
      },
      "execution_count": 69,
      "outputs": []
    },
    {
      "cell_type": "code",
      "source": [
        "db_chain.invoke(\"How many employees are there?\")"
      ],
      "metadata": {
        "id": "_YlJZQOhDZCy",
        "outputId": "65cf0a0a-5c50-4f22-9117-c23805551c27",
        "colab": {
          "base_uri": "https://localhost:8080/"
        }
      },
      "execution_count": 71,
      "outputs": [
        {
          "output_type": "stream",
          "name": "stdout",
          "text": [
            "\n",
            "\n",
            "\u001b[1m> Entering new SQLDatabaseChain chain...\u001b[0m\n",
            "How many employees are there?\n",
            "SQLQuery:\u001b[32;1m\u001b[1;3mSQLQuery:\n",
            "SELECT COUNT(*) AS \"Number of Employees\"\n",
            "FROM \"Employee\";\u001b[0m\n",
            "SQLResult: \u001b[33;1m\u001b[1;3m[(8,)]\u001b[0m\n",
            "Answer:\u001b[32;1m\u001b[1;3mThere are 8 employees.\u001b[0m\n",
            "\u001b[1m> Finished chain.\u001b[0m\n"
          ]
        },
        {
          "output_type": "execute_result",
          "data": {
            "text/plain": [
              "{'query': 'How many employees are there?', 'result': 'There are 8 employees.'}"
            ]
          },
          "metadata": {},
          "execution_count": 71
        }
      ]
    },
    {
      "cell_type": "code",
      "source": [
        "sales_by_genre = db_chain.invoke(\"Give me total sales by genre for all genres\")"
      ],
      "metadata": {
        "colab": {
          "base_uri": "https://localhost:8080/"
        },
        "id": "Y2UHpN8VnBKd",
        "outputId": "45244b03-7cd2-4bbf-8c4c-5db6e82b0262"
      },
      "execution_count": 72,
      "outputs": [
        {
          "output_type": "stream",
          "name": "stdout",
          "text": [
            "\n",
            "\n",
            "\u001b[1m> Entering new SQLDatabaseChain chain...\u001b[0m\n",
            "Give me total sales by genre for all genres\n",
            "SQLQuery:\u001b[32;1m\u001b[1;3mSQLQuery:\n",
            "SELECT g.\"Name\" AS \"Genre\", SUM(il.\"UnitPrice\" * il.\"Quantity\") AS \"Total Sales\"\n",
            "FROM \"InvoiceLine\" il\n",
            "JOIN \"Track\" t ON il.\"TrackId\" = t.\"TrackId\"\n",
            "JOIN \"Genre\" g ON t.\"GenreId\" = g.\"GenreId\"\n",
            "GROUP BY g.\"Name\"\n",
            "ORDER BY \"Total Sales\" DESC\n",
            "LIMIT 5;\u001b[0m\n",
            "SQLResult: \u001b[33;1m\u001b[1;3m[('Rock', Decimal('826.65')), ('Latin', Decimal('382.14')), ('Metal', Decimal('261.36')), ('Alternative & Punk', Decimal('241.56')), ('TV Shows', Decimal('93.53'))]\u001b[0m\n",
            "Answer:\u001b[32;1m\u001b[1;3mThe total sales by genre, ordered from highest to lowest, are:\n",
            "\n",
            "1. Rock: $826.65\n",
            "2. Latin: $382.14\n",
            "3. Metal: $261.36\n",
            "4. Alternative & Punk: $241.56\n",
            "5. TV Shows: $93.53\u001b[0m\n",
            "\u001b[1m> Finished chain.\u001b[0m\n"
          ]
        }
      ]
    },
    {
      "cell_type": "code",
      "source": [
        "# And yes. The table has sales going into 2025. That is not an error.\n",
        "# Convert this text-to-speech and we don't need BI Dashboards.\n",
        "sales_by_quarter= db_chain.invoke(\"Give me total sales for each year by quarter\")\n"
      ],
      "metadata": {
        "colab": {
          "base_uri": "https://localhost:8080/"
        },
        "id": "WVM4Y13SsV3g",
        "outputId": "22424369-e15f-4102-be61-4d50e9bdc377"
      },
      "execution_count": 75,
      "outputs": [
        {
          "output_type": "stream",
          "name": "stdout",
          "text": [
            "\n",
            "\n",
            "\u001b[1m> Entering new SQLDatabaseChain chain...\u001b[0m\n",
            "Give me total sales for each year by quarter\n",
            "SQLQuery:\u001b[32;1m\u001b[1;3mSQLQuery:\n",
            "SELECT\n",
            "    EXTRACT(YEAR FROM \"InvoiceDate\") AS \"Year\",\n",
            "    EXTRACT(QUARTER FROM \"InvoiceDate\") AS \"Quarter\",\n",
            "    SUM(\"Total\") AS \"Total Sales\"\n",
            "FROM\n",
            "    \"Invoice\"\n",
            "GROUP BY\n",
            "    EXTRACT(YEAR FROM \"InvoiceDate\"),\n",
            "    EXTRACT(QUARTER FROM \"InvoiceDate\")\n",
            "ORDER BY\n",
            "    \"Year\", \"Quarter\";\u001b[0m\n",
            "SQLResult: \u001b[33;1m\u001b[1;3m[(Decimal('2021'), Decimal('1'), Decimal('110.88')), (Decimal('2021'), Decimal('2'), Decimal('112.86')), (Decimal('2021'), Decimal('3'), Decimal('112.86')), (Decimal('2021'), Decimal('4'), Decimal('112.86')), (Decimal('2022'), Decimal('1'), Decimal('143.86')), (Decimal('2022'), Decimal('2'), Decimal('112.86')), (Decimal('2022'), Decimal('3'), Decimal('111.87')), (Decimal('2022'), Decimal('4'), Decimal('112.86')), (Decimal('2023'), Decimal('1'), Decimal('112.86')), (Decimal('2023'), Decimal('2'), Decimal('144.86')), (Decimal('2023'), Decimal('3'), Decimal('112.86')), (Decimal('2023'), Decimal('4'), Decimal('99.00')), (Decimal('2024'), Decimal('1'), Decimal('112.86')), (Decimal('2024'), Decimal('2'), Decimal('112.86')), (Decimal('2024'), Decimal('3'), Decimal('133.95')), (Decimal('2024'), Decimal('4'), Decimal('117.86')), (Decimal('2025'), Decimal('1'), Decimal('102.96')), (Decimal('2025'), Decimal('2'), Decimal('108.90')), (Decimal('2025'), Decimal('3'), Decimal('112.86')), (Decimal('2025'), Decimal('4'), Decimal('125.86'))]\u001b[0m\n",
            "Answer:\u001b[32;1m\u001b[1;3mThe query groups the invoices by the year and quarter of the `InvoiceDate`, calculates the sum of the `Total` column for each group, and orders the results by year and quarter. The result shows the total sales for each year and quarter combination.\u001b[0m\n",
            "\u001b[1m> Finished chain.\u001b[0m\n"
          ]
        }
      ]
    },
    {
      "cell_type": "markdown",
      "source": [
        "## Oops!!! Out of tokens :("
      ],
      "metadata": {
        "id": "tUUCXby36ozd"
      }
    },
    {
      "cell_type": "code",
      "source": [
        "db_chain.run(\"Give me total sales by quarter for each genre\")"
      ],
      "metadata": {
        "colab": {
          "base_uri": "https://localhost:8080/",
          "height": 593
        },
        "id": "jgXsqCmG6aTK",
        "outputId": "c804f236-5d06-4966-fc2e-b5024173b2f2"
      },
      "execution_count": 76,
      "outputs": [
        {
          "output_type": "stream",
          "name": "stdout",
          "text": [
            "\n",
            "\n",
            "\u001b[1m> Entering new SQLDatabaseChain chain...\u001b[0m\n",
            "Give me total sales by quarter for each genre\n",
            "SQLQuery:\u001b[32;1m\u001b[1;3mSQLQuery:\n",
            "SELECT g.\"Name\" AS \"Genre\", DATE_PART('quarter', i.\"InvoiceDate\") AS \"Quarter\", SUM(il.\"UnitPrice\" * il.\"Quantity\") AS \"Total Sales\"\n",
            "FROM \"Genre\" g\n",
            "JOIN \"Track\" t ON g.\"GenreId\" = t.\"GenreId\"\n",
            "JOIN \"InvoiceLine\" il ON t.\"TrackId\" = il.\"TrackId\"\n",
            "JOIN \"Invoice\" i ON il.\"InvoiceId\" = i.\"InvoiceId\"\n",
            "GROUP BY g.\"Name\", DATE_PART('quarter', i.\"InvoiceDate\")\n",
            "ORDER BY \"Genre\", \"Quarter\";\u001b[0m\n",
            "SQLResult: \u001b[33;1m\u001b[1;3m[('Alternative', 1.0, Decimal('5.94')), ('Alternative', 2.0, Decimal('3.96')), ('Alternative', 4.0, Decimal('3.96')), ('Alternative & Punk', 1.0, Decimal('60.39')), ('Alternative & Punk', 2.0, Decimal('60.39')), ('Alternative & Punk', 3.0, Decimal('45.54')), ('Alternative & Punk', 4.0, Decimal('75.24')), ('Blues', 1.0, Decimal('15.84')), ('Blues', 2.0, Decimal('10.89')), ('Blues', 3.0, Decimal('14.85')), ('Blues', 4.0, Decimal('18.81')), ('Bossa Nova', 1.0, Decimal('4.95')), ('Bossa Nova', 2.0, Decimal('1.98')), ('Bossa Nova', 4.0, Decimal('7.92')), ('Classical', 1.0, Decimal('3.96')), ('Classical', 2.0, Decimal('14.85')), ('Classical', 3.0, Decimal('4.95')), ('Classical', 4.0, Decimal('16.83')), ('Comedy', 1.0, Decimal('3.98')), ('Comedy', 2.0, Decimal('1.99')), ('Comedy', 3.0, Decimal('11.94')), ('Drama', 1.0, Decimal('17.91')), ('Drama', 2.0, Decimal('11.94')), ('Drama', 3.0, Decimal('13.93')), ('Drama', 4.0, Decimal('13.93')), ('Easy Listening', 1.0, Decimal('1.98')), ('Easy Listening', 2.0, Decimal('2.97')), ('Easy Listening', 3.0, Decimal('1.98')), ('Easy Listening', 4.0, Decimal('2.97')), ('Electronica/Dance', 1.0, Decimal('3.96')), ('Electronica/Dance', 2.0, Decimal('2.97')), ('Electronica/Dance', 3.0, Decimal('1.98')), ('Electronica/Dance', 4.0, Decimal('2.97')), ('Heavy Metal', 1.0, Decimal('2.97')), ('Heavy Metal', 2.0, Decimal('5.94')), ('Heavy Metal', 3.0, Decimal('2.97')), ('Hip Hop/Rap', 1.0, Decimal('3.96')), ('Hip Hop/Rap', 2.0, Decimal('4.95')), ('Hip Hop/Rap', 3.0, Decimal('3.96')), ('Hip Hop/Rap', 4.0, Decimal('3.96')), ('Jazz', 1.0, Decimal('31.68')), ('Jazz', 2.0, Decimal('19.80')), ('Jazz', 3.0, Decimal('16.83')), ('Jazz', 4.0, Decimal('10.89')), ('Latin', 1.0, Decimal('94.05')), ('Latin', 2.0, Decimal('109.89')), ('Latin', 3.0, Decimal('92.07')), ('Latin', 4.0, Decimal('86.13')), ('Metal', 1.0, Decimal('57.42')), ('Metal', 2.0, Decimal('59.40')), ('Metal', 3.0, Decimal('78.21')), ('Metal', 4.0, Decimal('66.33')), ('Pop', 1.0, Decimal('7.92')), ('Pop', 2.0, Decimal('6.93')), ('Pop', 3.0, Decimal('4.95')), ('Pop', 4.0, Decimal('7.92')), ('R&B/Soul', 1.0, Decimal('8.91')), ('R&B/Soul', 2.0, Decimal('3.96')), ('R&B/Soul', 3.0, Decimal('17.82')), ('R&B/Soul', 4.0, Decimal('9.90')), ('Reggae', 1.0, Decimal('9.90')), ('Reggae', 2.0, Decimal('6.93')), ('Reggae', 3.0, Decimal('7.92')), ('Reggae', 4.0, Decimal('4.95')), ('Rock', 1.0, Decimal('199.98')), ('Rock', 2.0, Decimal('202.95')), ('Rock', 3.0, Decimal('219.78')), ('Rock', 4.0, Decimal('203.94')), ('Rock And Roll', 1.0, Decimal('0.99')), ('Rock And Roll', 2.0, Decimal('1.98')), ('Rock And Roll', 3.0, Decimal('0.99')), ('Rock And Roll', 4.0, Decimal('1.98')), ('Sci Fi & Fantasy', 1.0, Decimal('9.95')), ('Sci Fi & Fantasy', 2.0, Decimal('17.91')), ('Sci Fi & Fantasy', 3.0, Decimal('9.95')), ('Sci Fi & Fantasy', 4.0, Decimal('1.99')), ('Science Fiction', 1.0, Decimal('3.98')), ('Science Fiction', 2.0, Decimal('3.98')), ('Science Fiction', 3.0, Decimal('1.99')), ('Science Fiction', 4.0, Decimal('1.99')), ('Soundtrack', 1.0, Decimal('4.95')), ('Soundtrack', 2.0, Decimal('4.95')), ('Soundtrack', 3.0, Decimal('4.95')), ('Soundtrack', 4.0, Decimal('4.95')), ('TV Shows', 1.0, Decimal('25.87')), ('TV Shows', 2.0, Decimal('27.86')), ('TV Shows', 3.0, Decimal('21.89')), ('TV Shows', 4.0, Decimal('17.91')), ('World', 1.0, Decimal('1.98')), ('World', 2.0, Decimal('2.97')), ('World', 3.0, Decimal('4.95')), ('World', 4.0, Decimal('2.97'))]\u001b[0m\n",
            "Answer:\u001b[32;1m\u001b[1;3mThe query groups the sales data by genre and quarter, and calculates the total sales for each combination. The results show the total sales amount for each genre, broken down by quarter.\n",
            "\n",
            "Some key observations from the results:\n",
            "\n",
            "- Rock genre had the highest sales across all quarters, ranging from around $200 to $220 per quarter.\n",
            "- Latin genre also had consistently high sales, around $85 to $110 per quarter.\n",
            "- Metal genre sales were around $55 to $80 per quarter.\n",
            "- Genres like Alternative & Punk, Blues, Jazz also had decent sales numbers across quarters.\n",
            "- Genres like Comedy, Easy Listening, Sci Fi & Fantasy, Science Fiction had relatively lower sales.\n",
            "\n",
            "The breakdown by quarter allows analyzing sales trends over time for each genre. This type of analysis can help identify popular genres, plan inventory, and make data-driven decisions for the music business.\u001b[0m\n",
            "\u001b[1m> Finished chain.\u001b[0m\n"
          ]
        },
        {
          "output_type": "execute_result",
          "data": {
            "text/plain": [
              "'The query groups the sales data by genre and quarter, and calculates the total sales for each combination. The results show the total sales amount for each genre, broken down by quarter.\\n\\nSome key observations from the results:\\n\\n- Rock genre had the highest sales across all quarters, ranging from around $200 to $220 per quarter.\\n- Latin genre also had consistently high sales, around $85 to $110 per quarter.\\n- Metal genre sales were around $55 to $80 per quarter.\\n- Genres like Alternative & Punk, Blues, Jazz also had decent sales numbers across quarters.\\n- Genres like Comedy, Easy Listening, Sci Fi & Fantasy, Science Fiction had relatively lower sales.\\n\\nThe breakdown by quarter allows analyzing sales trends over time for each genre. This type of analysis can help identify popular genres, plan inventory, and make data-driven decisions for the music business.'"
            ],
            "application/vnd.google.colaboratory.intrinsic+json": {
              "type": "string"
            }
          },
          "metadata": {},
          "execution_count": 76
        }
      ]
    },
    {
      "cell_type": "markdown",
      "source": [
        "# So what do you guys's think. What do you think is the toughest query. Post it on the Applied AI Slack channel."
      ],
      "metadata": {
        "id": "zs3xliwR55Nn"
      }
    },
    {
      "cell_type": "code",
      "source": [],
      "metadata": {
        "id": "UzFN3XFX54Pu"
      },
      "execution_count": null,
      "outputs": []
    }
  ],
  "metadata": {
    "kernelspec": {
      "display_name": "base",
      "language": "python",
      "name": "python3"
    },
    "language_info": {
      "codemirror_mode": {
        "name": "ipython",
        "version": 3
      },
      "file_extension": ".py",
      "mimetype": "text/x-python",
      "name": "python",
      "nbconvert_exporter": "python",
      "pygments_lexer": "ipython3",
      "version": "3.9.13"
    },
    "orig_nbformat": 4,
    "colab": {
      "provenance": [],
      "toc_visible": true,
      "include_colab_link": true
    }
  },
  "nbformat": 4,
  "nbformat_minor": 0
}