{
  "cells": [
    {
      "cell_type": "markdown",
      "metadata": {
        "id": "view-in-github",
        "colab_type": "text"
      },
      "source": [
        "<a href=\"https://colab.research.google.com/github/cooolbabu/GoogleGemini101/blob/main/OpenAI/11_LangChain_SQL_Queries_Postgres_Claude_Gotcha.ipynb\" target=\"_parent\"><img src=\"https://colab.research.google.com/assets/colab-badge.svg\" alt=\"Open In Colab\"/></a>"
      ]
    },
    {
      "cell_type": "markdown",
      "source": [
        "# Playing with Langchain and Claude, i found an issue. Highlighting this issue to get better understanding of the underlying problem\n",
        "\n",
        "# Justin Grammens LetsLearnLangChain presentation.\n",
        "- [Course content on Github](https://github.com/justingrammens/LetsLearnLangChain)\n",
        "- [Youtube link](https://www.youtube.com/watch?v=QT3wALFDZBo)\n",
        "\n",
        "# Data for Chinook\n",
        "- Chinook is a sample database contain sales of music tracks for different genres\n",
        "- [Luis Rocha Chinook-Database](https://github.com/lerocha/chinook-database>\n",
        "\n",
        "\n",
        "## Issue\n",
        "- The question is \"Get total sales by quarter for years 2023 and 2024 for each genre. Analyse the results and give me a summary.\"\n",
        "  - Langchain-SQLDatabasechain performs the query and retrives the results. These results are then presented to Anthropic/Claude to analyse and present a summary.\n",
        "  - Claude does a fantastic job of summarizing the results.\n",
        "  - However, it misses the point that in the Genre Rock had the highest sales in 2023\n"
      ],
      "metadata": {
        "id": "Onaey4D88M3y"
      }
    },
    {
      "cell_type": "markdown",
      "metadata": {
        "id": "bbzGYCzCC7wY"
      },
      "source": [
        "## Installation\n"
      ]
    },
    {
      "cell_type": "code",
      "execution_count": 1,
      "metadata": {
        "id": "1nS1SD2pC7wZ",
        "outputId": "43784a32-fda4-4de2-91fd-15806de13dd3",
        "colab": {
          "base_uri": "https://localhost:8080/"
        }
      },
      "outputs": [
        {
          "output_type": "stream",
          "name": "stdout",
          "text": [
            "\u001b[2K     \u001b[90m━━━━━━━━━━━━━━━━━━━━━━━━━━━━━━━━━━━━━━━━\u001b[0m \u001b[32m810.5/810.5 kB\u001b[0m \u001b[31m7.3 MB/s\u001b[0m eta \u001b[36m0:00:00\u001b[0m\n",
            "\u001b[2K     \u001b[90m━━━━━━━━━━━━━━━━━━━━━━━━━━━━━━━━━━━━━━━━\u001b[0m \u001b[32m177.6/177.6 kB\u001b[0m \u001b[31m10.4 MB/s\u001b[0m eta \u001b[36m0:00:00\u001b[0m\n",
            "\u001b[2K     \u001b[90m━━━━━━━━━━━━━━━━━━━━━━━━━━━━━━━━━━━━━━━━\u001b[0m \u001b[32m1.8/1.8 MB\u001b[0m \u001b[31m17.3 MB/s\u001b[0m eta \u001b[36m0:00:00\u001b[0m\n",
            "\u001b[2K     \u001b[90m━━━━━━━━━━━━━━━━━━━━━━━━━━━━━━━━━━━━━━━━\u001b[0m \u001b[32m273.9/273.9 kB\u001b[0m \u001b[31m5.3 MB/s\u001b[0m eta \u001b[36m0:00:00\u001b[0m\n",
            "\u001b[2K     \u001b[90m━━━━━━━━━━━━━━━━━━━━━━━━━━━━━━━━━━━━━━━━\u001b[0m \u001b[32m86.9/86.9 kB\u001b[0m \u001b[31m3.6 MB/s\u001b[0m eta \u001b[36m0:00:00\u001b[0m\n",
            "\u001b[2K     \u001b[90m━━━━━━━━━━━━━━━━━━━━━━━━━━━━━━━━━━━━━━━━\u001b[0m \u001b[32m851.6/851.6 kB\u001b[0m \u001b[31m21.9 MB/s\u001b[0m eta \u001b[36m0:00:00\u001b[0m\n",
            "\u001b[2K     \u001b[90m━━━━━━━━━━━━━━━━━━━━━━━━━━━━━━━━━━━━━━━━\u001b[0m \u001b[32m75.6/75.6 kB\u001b[0m \u001b[31m2.7 MB/s\u001b[0m eta \u001b[36m0:00:00\u001b[0m\n",
            "\u001b[2K     \u001b[90m━━━━━━━━━━━━━━━━━━━━━━━━━━━━━━━━━━━━━━━━\u001b[0m \u001b[32m49.4/49.4 kB\u001b[0m \u001b[31m1.7 MB/s\u001b[0m eta \u001b[36m0:00:00\u001b[0m\n",
            "\u001b[2K     \u001b[90m━━━━━━━━━━━━━━━━━━━━━━━━━━━━━━━━━━━━━━━━\u001b[0m \u001b[32m53.0/53.0 kB\u001b[0m \u001b[31m2.4 MB/s\u001b[0m eta \u001b[36m0:00:00\u001b[0m\n",
            "\u001b[2K     \u001b[90m━━━━━━━━━━━━━━━━━━━━━━━━━━━━━━━━━━━━━━━━\u001b[0m \u001b[32m144.8/144.8 kB\u001b[0m \u001b[31m1.7 MB/s\u001b[0m eta \u001b[36m0:00:00\u001b[0m\n",
            "\u001b[2K     \u001b[90m━━━━━━━━━━━━━━━━━━━━━━━━━━━━━━━━━━━━━━━━\u001b[0m \u001b[32m77.9/77.9 kB\u001b[0m \u001b[31m4.8 MB/s\u001b[0m eta \u001b[36m0:00:00\u001b[0m\n",
            "\u001b[2K     \u001b[90m━━━━━━━━━━━━━━━━━━━━━━━━━━━━━━━━━━━━━━━━\u001b[0m \u001b[32m58.3/58.3 kB\u001b[0m \u001b[31m5.2 MB/s\u001b[0m eta \u001b[36m0:00:00\u001b[0m\n",
            "\u001b[2K     \u001b[90m━━━━━━━━━━━━━━━━━━━━━━━━━━━━━━━━━━━━━━━━\u001b[0m \u001b[32m44.3/44.3 kB\u001b[0m \u001b[31m1.7 MB/s\u001b[0m eta \u001b[36m0:00:00\u001b[0m\n",
            "\u001b[2K     \u001b[90m━━━━━━━━━━━━━━━━━━━━━━━━━━━━━━━━━━━━━━━━\u001b[0m \u001b[32m130.2/130.2 kB\u001b[0m \u001b[31m6.0 MB/s\u001b[0m eta \u001b[36m0:00:00\u001b[0m\n",
            "\u001b[2K     \u001b[90m━━━━━━━━━━━━━━━━━━━━━━━━━━━━━━━━━━━━━━━━\u001b[0m \u001b[32m334.7/334.7 kB\u001b[0m \u001b[31m6.8 MB/s\u001b[0m eta \u001b[36m0:00:00\u001b[0m\n",
            "\u001b[?25h"
          ]
        }
      ],
      "source": [
        "!pip install langchain langchain_experimental langchain-anthropic -q\n",
        "!pip install supabase -q\n",
        "!pip install pyodbc -q"
      ]
    },
    {
      "cell_type": "markdown",
      "source": [
        "## Helper functions"
      ],
      "metadata": {
        "id": "um30rd-n0v2A"
      }
    },
    {
      "cell_type": "code",
      "source": [
        "#\n",
        "# Retrieve a file from Github Repository\n",
        "\n",
        "def get_ChinookDB_ER_from_github(file_url):\n",
        "\n",
        "  # Send a GET request to the file URL\n",
        "  response = requests.get(file_url)\n",
        "\n",
        "  # Check if the request was successful\n",
        "  if response.status_code == 200:\n",
        "      # Get the content of the file\n",
        "      file_content = response.text\n",
        "      return file_content\n",
        "  else:\n",
        "      return(f'Failed to retrieve the file: {response.status_code}')"
      ],
      "metadata": {
        "id": "e5VzPLyy0wpb"
      },
      "execution_count": 2,
      "outputs": []
    },
    {
      "cell_type": "markdown",
      "source": [
        "## Get API Keys and setup"
      ],
      "metadata": {
        "id": "5T7pw0W2w2BF"
      }
    },
    {
      "cell_type": "code",
      "execution_count": 3,
      "metadata": {
        "id": "jXVnzXnDC7wa"
      },
      "outputs": [],
      "source": [
        "from langchain import PromptTemplate, LLMChain, ConversationChain\n",
        "from langchain_core.messages import SystemMessage\n",
        "from langchain_core.prompts import ChatPromptTemplate\n",
        "from langchain.agents import create_sql_agent\n",
        "from langchain.agents.agent_types import AgentType\n",
        "from langchain.sql_database import SQLDatabase\n",
        "\n",
        "from langchain_experimental.sql import SQLDatabaseChain\n",
        "from langchain_community.agent_toolkits import SQLDatabaseToolkit\n",
        "\n",
        "from langchain_anthropic import ChatAnthropic\n",
        "\n",
        "from supabase import create_client, Client\n",
        "\n",
        "from sqlalchemy import create_engine\n",
        "\n",
        "import requests\n",
        "import json\n",
        "import pandas as pd\n",
        "import pyodbc\n",
        "\n",
        "from google.colab import userdata\n",
        "\n",
        "# setup supabase\n",
        "supabase_url = userdata.get('SUPABASE_URL')\n",
        "supabase_key = userdata.get('SUPABASE_KEY')\n",
        "supabase_client = create_client(supabase_url, supabase_key)\n",
        "\n",
        "# OpenAI key\n",
        "claude_api_key = userdata.get('Claude_api_key')"
      ]
    },
    {
      "cell_type": "code",
      "source": [
        "# Connecting to Supabase using SQL Alchemy\n",
        "\n",
        "# Make sure the connection string is a proper string within quotes\n",
        "supabase_conn_str = userdata.get('supabase_conn_str')\n",
        "#supabase_conn_str = \"postgresql+psycopg2://[USERID:PASSWORD]@[HOSTNAME:PORT_NUMBER]/[DATABASE_NAME]\"\n",
        "\n",
        "\n",
        "# Use the connection string with SQLAlchemy's create_engine function\n",
        "db_engine = create_engine(supabase_conn_str)\n",
        "db = SQLDatabase(db_engine)\n",
        "\n",
        "# test the connection\n",
        "print(db.dialect)\n",
        "print(db.get_usable_table_names())\n"
      ],
      "metadata": {
        "id": "YCDWQk3iy1vz",
        "colab": {
          "base_uri": "https://localhost:8080/"
        },
        "outputId": "6b18cd08-3cfb-414b-bde8-631938a1d71b"
      },
      "execution_count": 4,
      "outputs": [
        {
          "output_type": "stream",
          "name": "stdout",
          "text": [
            "postgresql\n",
            "['Album', 'Artist', 'Customer', 'Employee', 'Genre', 'Invoice', 'InvoiceLine', 'MediaType', 'Playlist', 'PlaylistTrack', 'Track', 'countries']\n"
          ]
        }
      ]
    },
    {
      "cell_type": "markdown",
      "source": [
        "## Setup context and build the prompt\n",
        "- The ER diagram for ChinookDB is a Mermaid.JS script.\n",
        "- dba_instructions and ER diagram are built into system prompt.\n",
        "- User prompt will ask questions about the data."
      ],
      "metadata": {
        "id": "Wln7DiOJGbSi"
      }
    },
    {
      "cell_type": "code",
      "source": [
        "# Build the prompt template\n",
        "\n",
        "chinookDB_ER_from_github = get_ChinookDB_ER_from_github(\"https://raw.githubusercontent.com/cooolbabu/GoogleGemini101/main/OpenAI/ChinookDB_ER.txt\")\n",
        "# Markdown(chinookDB_ER_from_github) ## uncoment to view file from Github\n",
        "\n",
        "## Build the prompt\n",
        "dba_instructions=\"\"\"\n",
        "1. You are a Data Architect for ChinookDB.\n",
        "2. An entiry-relationship diagram for ChinookDB, in the form of a Mermaid.js script is provide to you\n",
        "3. You will use this ER diagram to deliver SQL queries.\n",
        "4. Database dialect is PostgreSQL\n",
        "5. Use quotes for database object names in SQL statements\n",
        "\n",
        "\"\"\"\n",
        "\n",
        "dba_system_message = SystemMessage(content=dba_instructions + chinookDB_ER_from_github)\n",
        "\n",
        "prompt = ChatPromptTemplate.from_messages([\n",
        "    dba_system_message,\n",
        "    (\"user\", \"{input}\")\n",
        "])\n"
      ],
      "metadata": {
        "id": "OwFmu5nw32Kz"
      },
      "execution_count": 5,
      "outputs": []
    },
    {
      "cell_type": "code",
      "source": [],
      "metadata": {
        "id": "z3WHSe0YyLG7"
      },
      "execution_count": null,
      "outputs": []
    },
    {
      "cell_type": "markdown",
      "source": [
        "## Lets run some chains\n",
        "- Setup the chain\n",
        "- Ask questions"
      ],
      "metadata": {
        "id": "MrprCpn13sMk"
      }
    },
    {
      "cell_type": "code",
      "source": [
        "# Setup the chain\n",
        "\n",
        "llm = ChatAnthropic(model=\"claude-3-sonnet-20240229\", temperature=0, max_tokens=1024, anthropic_api_key= claude_api_key)\n",
        "db_chain = SQLDatabaseChain.from_llm(llm, db, verbose=True, top_k=200)\n"
      ],
      "metadata": {
        "id": "U6ZaxFN_wJyU"
      },
      "execution_count": 6,
      "outputs": []
    },
    {
      "cell_type": "code",
      "source": [
        "result = db_chain.invoke(\"For the Genre Rock get total sales by quarter in the year 2023\")"
      ],
      "metadata": {
        "id": "SzZCDSo9WCAt",
        "outputId": "27864b66-9bd9-4a3e-edaf-5badd0e0596e",
        "colab": {
          "base_uri": "https://localhost:8080/"
        }
      },
      "execution_count": 8,
      "outputs": [
        {
          "output_type": "stream",
          "name": "stdout",
          "text": [
            "\n",
            "\n",
            "\u001b[1m> Entering new SQLDatabaseChain chain...\u001b[0m\n",
            "For the Genre Rock get total sales by quarter in the year 2023\n",
            "SQLQuery:\u001b[32;1m\u001b[1;3mSQLQuery:\n",
            "SELECT\n",
            "    EXTRACT(QUARTER FROM \"InvoiceDate\") AS \"Quarter\",\n",
            "    SUM(\"InvoiceLine\".\"UnitPrice\" * \"InvoiceLine\".\"Quantity\") AS \"Total Sales\"\n",
            "FROM\n",
            "    \"Invoice\"\n",
            "    JOIN \"InvoiceLine\" ON \"Invoice\".\"InvoiceId\" = \"InvoiceLine\".\"InvoiceId\"\n",
            "    JOIN \"Track\" ON \"InvoiceLine\".\"TrackId\" = \"Track\".\"TrackId\"\n",
            "    JOIN \"Genre\" ON \"Track\".\"GenreId\" = \"Genre\".\"GenreId\"\n",
            "WHERE\n",
            "    \"Genre\".\"Name\" = 'Rock'\n",
            "    AND DATE_PART('year', \"InvoiceDate\") = 2023\n",
            "GROUP BY\n",
            "    EXTRACT(QUARTER FROM \"InvoiceDate\")\n",
            "ORDER BY\n",
            "    \"Quarter\";\u001b[0m\n",
            "SQLResult: \u001b[33;1m\u001b[1;3m[(Decimal('1'), Decimal('58.41')), (Decimal('2'), Decimal('35.64')), (Decimal('3'), Decimal('32.67')), (Decimal('4'), Decimal('29.70'))]\u001b[0m\n",
            "Answer:\u001b[32;1m\u001b[1;3mThe total sales for the Rock genre by quarter in the year 2023 are:\n",
            "\n",
            "Quarter 1: $58.41\n",
            "Quarter 2: $35.64 \n",
            "Quarter 3: $32.67\n",
            "Quarter 4: $29.70\u001b[0m\n",
            "\u001b[1m> Finished chain.\u001b[0m\n"
          ]
        }
      ]
    },
    {
      "cell_type": "markdown",
      "source": [
        "### In the above result,  notice that Genre-Rock, had the highest sales in Q1, 2023"
      ],
      "metadata": {
        "id": "VENUl-juYcgL"
      }
    },
    {
      "cell_type": "code",
      "source": [
        "result = db_chain.invoke(\"Get total sales by quarter for years 2023 and 2024 for each genre. Analyse the results and give me a summary.\")"
      ],
      "metadata": {
        "colab": {
          "base_uri": "https://localhost:8080/"
        },
        "id": "pqYwEA9hoFlc",
        "outputId": "f00244bb-827f-4001-d3de-061925c47efc"
      },
      "execution_count": 9,
      "outputs": [
        {
          "output_type": "stream",
          "name": "stdout",
          "text": [
            "\n",
            "\n",
            "\u001b[1m> Entering new SQLDatabaseChain chain...\u001b[0m\n",
            "Get total sales by quarter for years 2023 and 2024 for each genre. Analyse the results and give me a summary.\n",
            "SQLQuery:\u001b[32;1m\u001b[1;3mSQLQuery:\n",
            "SELECT\n",
            "    g.\"Name\" AS \"Genre\",\n",
            "    EXTRACT(YEAR FROM i.\"InvoiceDate\") AS \"Year\",\n",
            "    EXTRACT(QUARTER FROM i.\"InvoiceDate\") AS \"Quarter\",\n",
            "    SUM(il.\"UnitPrice\" * il.\"Quantity\") AS \"Total Sales\"\n",
            "FROM\n",
            "    \"Genre\" g\n",
            "    JOIN \"Track\" t ON g.\"GenreId\" = t.\"GenreId\"\n",
            "    JOIN \"InvoiceLine\" il ON t.\"TrackId\" = il.\"TrackId\"\n",
            "    JOIN \"Invoice\" i ON il.\"InvoiceId\" = i.\"InvoiceId\"\n",
            "WHERE\n",
            "    EXTRACT(YEAR FROM i.\"InvoiceDate\") IN (2023, 2024)\n",
            "GROUP BY\n",
            "    g.\"Name\", EXTRACT(YEAR FROM i.\"InvoiceDate\"), EXTRACT(QUARTER FROM i.\"InvoiceDate\")\n",
            "ORDER BY\n",
            "    \"Year\", \"Quarter\", \"Genre\"\n",
            "LIMIT 200;\u001b[0m\n",
            "SQLResult: \u001b[33;1m\u001b[1;3m[('Alternative & Punk', Decimal('2023'), Decimal('1'), Decimal('20.79')), ('Blues', Decimal('2023'), Decimal('1'), Decimal('7.92')), ('Hip Hop/Rap', Decimal('2023'), Decimal('1'), Decimal('0.99')), ('Jazz', Decimal('2023'), Decimal('1'), Decimal('3.96')), ('Latin', Decimal('2023'), Decimal('1'), Decimal('11.88')), ('Metal', Decimal('2023'), Decimal('1'), Decimal('3.96')), ('Reggae', Decimal('2023'), Decimal('1'), Decimal('1.98')), ('Rock', Decimal('2023'), Decimal('1'), Decimal('58.41')), ('Soundtrack', Decimal('2023'), Decimal('1'), Decimal('2.97')), ('Alternative', Decimal('2023'), Decimal('2'), Decimal('3.96')), ('Alternative & Punk', Decimal('2023'), Decimal('2'), Decimal('7.92')), ('Classical', Decimal('2023'), Decimal('2'), Decimal('4.95')), ('Comedy', Decimal('2023'), Decimal('2'), Decimal('1.99')), ('Drama', Decimal('2023'), Decimal('2'), Decimal('11.94')), ('Electronica/Dance', Decimal('2023'), Decimal('2'), Decimal('1.98')), ('Hip Hop/Rap', Decimal('2023'), Decimal('2'), Decimal('2.97')), ('Latin', Decimal('2023'), Decimal('2'), Decimal('14.85')), ('Metal', Decimal('2023'), Decimal('2'), Decimal('0.99')), ('Pop', Decimal('2023'), Decimal('2'), Decimal('4.95')), ('Reggae', Decimal('2023'), Decimal('2'), Decimal('1.98')), ('Rock', Decimal('2023'), Decimal('2'), Decimal('35.64')), ('Sci Fi & Fantasy', Decimal('2023'), Decimal('2'), Decimal('17.91')), ('Science Fiction', Decimal('2023'), Decimal('2'), Decimal('3.98')), ('TV Shows', Decimal('2023'), Decimal('2'), Decimal('27.86')), ('World', Decimal('2023'), Decimal('2'), Decimal('0.99')), ('Alternative & Punk', Decimal('2023'), Decimal('3'), Decimal('5.94')), ('Blues', Decimal('2023'), Decimal('3'), Decimal('3.96')), ('Classical', Decimal('2023'), Decimal('3'), Decimal('4.95')), ('Jazz', Decimal('2023'), Decimal('3'), Decimal('8.91')), ('Latin', Decimal('2023'), Decimal('3'), Decimal('24.75')), ('Metal', Decimal('2023'), Decimal('3'), Decimal('13.86')), ('Pop', Decimal('2023'), Decimal('3'), Decimal('4.95')), ('R&B/Soul', Decimal('2023'), Decimal('3'), Decimal('6.93')), ('Reggae', Decimal('2023'), Decimal('3'), Decimal('3.96')), ('Rock', Decimal('2023'), Decimal('3'), Decimal('32.67')), ('Rock And Roll', Decimal('2023'), Decimal('3'), Decimal('0.99')), ('Soundtrack', Decimal('2023'), Decimal('3'), Decimal('0.99')), ('Alternative & Punk', Decimal('2023'), Decimal('4'), Decimal('10.89')), ('Blues', Decimal('2023'), Decimal('4'), Decimal('7.92')), ('Bossa Nova', Decimal('2023'), Decimal('4'), Decimal('7.92')), ('Easy Listening', Decimal('2023'), Decimal('4'), Decimal('2.97')), ('Jazz', Decimal('2023'), Decimal('4'), Decimal('2.97')), ('Latin', Decimal('2023'), Decimal('4'), Decimal('28.71')), ('Metal', Decimal('2023'), Decimal('4'), Decimal('6.93')), ('Rock', Decimal('2023'), Decimal('4'), Decimal('29.70')), ('Soundtrack', Decimal('2023'), Decimal('4'), Decimal('0.99')), ('Alternative & Punk', Decimal('2024'), Decimal('1'), Decimal('0.99')), ('Blues', Decimal('2024'), Decimal('1'), Decimal('0.99')), ('Electronica/Dance', Decimal('2024'), Decimal('1'), Decimal('0.99')), ('Heavy Metal', Decimal('2024'), Decimal('1'), Decimal('2.97')), ('Latin', Decimal('2024'), Decimal('1'), Decimal('10.89')), ('Metal', Decimal('2024'), Decimal('1'), Decimal('43.56')), ('R&B/Soul', Decimal('2024'), Decimal('1'), Decimal('6.93')), ('Rock', Decimal('2024'), Decimal('1'), Decimal('43.56')), ('World', Decimal('2024'), Decimal('1'), Decimal('1.98')), ('Alternative & Punk', Decimal('2024'), Decimal('2'), Decimal('21.78')), ('Blues', Decimal('2024'), Decimal('2'), Decimal('5.94')), ('Hip Hop/Rap', Decimal('2024'), Decimal('2'), Decimal('1.98')), ('Jazz', Decimal('2024'), Decimal('2'), Decimal('2.97')), ('Latin', Decimal('2024'), Decimal('2'), Decimal('19.80')), ('Metal', Decimal('2024'), Decimal('2'), Decimal('7.92')), ('Reggae', Decimal('2024'), Decimal('2'), Decimal('0.99')), ('Rock', Decimal('2024'), Decimal('2'), Decimal('48.51')), ('Soundtrack', Decimal('2024'), Decimal('2'), Decimal('1.98')), ('World', Decimal('2024'), Decimal('2'), Decimal('0.99')), ('Alternative & Punk', Decimal('2024'), Decimal('3'), Decimal('8.91')), ('Comedy', Decimal('2024'), Decimal('3'), Decimal('11.94')), ('Drama', Decimal('2024'), Decimal('3'), Decimal('13.93')), ('Latin', Decimal('2024'), Decimal('3'), Decimal('9.90')), ('Metal', Decimal('2024'), Decimal('3'), Decimal('1.98')), ('Reggae', Decimal('2024'), Decimal('3'), Decimal('1.98')), ('Rock', Decimal('2024'), Decimal('3'), Decimal('51.48')), ('Sci Fi & Fantasy', Decimal('2024'), Decimal('3'), Decimal('9.95')), ('Science Fiction', Decimal('2024'), Decimal('3'), Decimal('1.99')), ('TV Shows', Decimal('2024'), Decimal('3'), Decimal('21.89')), ('Alternative', Decimal('2024'), Decimal('4'), Decimal('3.96')), ('Alternative & Punk', Decimal('2024'), Decimal('4'), Decimal('6.93')), ('Blues', Decimal('2024'), Decimal('4'), Decimal('1.98')), ('Classical', Decimal('2024'), Decimal('4'), Decimal('16.83')), ('Drama', Decimal('2024'), Decimal('4'), Decimal('3.98')), ('Electronica/Dance', Decimal('2024'), Decimal('4'), Decimal('1.98')), ('Hip Hop/Rap', Decimal('2024'), Decimal('4'), Decimal('1.98')), ('Jazz', Decimal('2024'), Decimal('4'), Decimal('2.97')), ('Latin', Decimal('2024'), Decimal('4'), Decimal('22.77')), ('Metal', Decimal('2024'), Decimal('4'), Decimal('11.88')), ('Pop', Decimal('2024'), Decimal('4'), Decimal('7.92')), ('R&B/Soul', Decimal('2024'), Decimal('4'), Decimal('2.97')), ('Reggae', Decimal('2024'), Decimal('4'), Decimal('2.97')), ('Rock', Decimal('2024'), Decimal('4'), Decimal('18.81')), ('Rock And Roll', Decimal('2024'), Decimal('4'), Decimal('1.98')), ('Sci Fi & Fantasy', Decimal('2024'), Decimal('4'), Decimal('1.99')), ('Soundtrack', Decimal('2024'), Decimal('4'), Decimal('1.98')), ('TV Shows', Decimal('2024'), Decimal('4'), Decimal('3.98'))]\u001b[0m\n",
            "Answer:\u001b[32;1m\u001b[1;3mThe query provides total sales by quarter for the years 2023 and 2024, grouped by genre. Here's a summary of the results:\n",
            "\n",
            "In 2023:\n",
            "- Rock genre had the highest sales in all quarters, with the highest being Q3 ($32.67) and the lowest in Q1 ($58.41).\n",
            "- Latin genre also had consistently high sales across all quarters, ranging from $11.88 in Q1 to $24.75 in Q3.\n",
            "- Metal genre sales peaked in Q3 ($13.86) and were lowest in Q2 ($0.99).\n",
            "- Alternative & Punk genre had moderate sales, with the highest in Q4 ($10.89) and lowest in Q1 ($20.79).\n",
            "- Other genres like Blues, Jazz, Reggae, and R&B/Soul had relatively lower sales compared to the top genres.\n",
            "\n",
            "In 2024:\n",
            "- Rock genre again had the highest sales in all quarters, with the highest being Q3 ($51.48) and the lowest in Q1 ($43.56).\n",
            "- Metal genre had high sales in Q1 ($43.56) but dropped significantly in other quarters.\n",
            "- Latin genre maintained consistent sales across quarters, ranging from $9.90 in Q3 to $22.77 in Q4.\n",
            "- Alternative & Punk genre had moderate sales, with the highest in Q2 ($21.78) and lowest in Q1 ($0.99).\n",
            "- Genres like Classical, Comedy, Drama, Sci Fi & Fantasy, and TV Shows had notable sales in certain quarters.\n",
            "\n",
            "Overall, the Rock and Latin genres consistently performed well in terms of sales across both years and all quarters, while genres like Metal, Alternative & Punk, and others had more fluctuating sales patterns.\u001b[0m\n",
            "\u001b[1m> Finished chain.\u001b[0m\n"
          ]
        }
      ]
    },
    {
      "cell_type": "code",
      "source": [
        "print(result)"
      ],
      "metadata": {
        "id": "IkcXL0gHvXCO",
        "outputId": "4b238777-c7bf-4f85-dd06-5ab06a1971ce",
        "colab": {
          "base_uri": "https://localhost:8080/"
        }
      },
      "execution_count": null,
      "outputs": [
        {
          "output_type": "stream",
          "name": "stdout",
          "text": [
            "{'query': 'Get total sales by quarter for years 2023 and 2024 for each genre. Analyse the results and give me a summary', 'result': \"The query provides a breakdown of total sales by genre, year, and quarter for the years 2023 and 2024. Here's a summary of the results:\\n\\nIn 2023:\\n- The Rock genre had the highest sales in all four quarters, with the highest sales in Q2 ($35.64) and Q3 ($32.67).\\n- The Latin genre also had consistently high sales across all quarters, ranging from $11.88 in Q1 to $24.75 in Q3.\\n- Other genres with notable sales include Alternative & Punk, Metal, and TV Shows.\\n\\nIn 2024:\\n- The Rock genre again had the highest sales in Q1 ($43.56), Q2 ($48.51), and Q3 ($51.48).\\n- The Metal genre had high sales in Q1 ($43.56), while the Latin genre had consistent sales across all quarters.\\n- Genres like TV Shows, Comedy, Drama, and Sci Fi & Fantasy also had notable sales in certain quarters.\\n\\nOverall, the results show that the Rock and Latin genres were the top-selling genres across both years, with Rock being the clear leader. Other genres like Metal, Alternative & Punk, and TV Shows also contributed significantly to the sales in various quarters.\"}\n"
          ]
        }
      ]
    },
    {
      "cell_type": "markdown",
      "source": [
        "# So what do you guys's think. What do you think is the toughest query. Post it on the Applied AI Slack channel."
      ],
      "metadata": {
        "id": "zs3xliwR55Nn"
      }
    }
  ],
  "metadata": {
    "kernelspec": {
      "display_name": "base",
      "language": "python",
      "name": "python3"
    },
    "language_info": {
      "codemirror_mode": {
        "name": "ipython",
        "version": 3
      },
      "file_extension": ".py",
      "mimetype": "text/x-python",
      "name": "python",
      "nbconvert_exporter": "python",
      "pygments_lexer": "ipython3",
      "version": "3.9.13"
    },
    "orig_nbformat": 4,
    "colab": {
      "provenance": [],
      "include_colab_link": true
    }
  },
  "nbformat": 4,
  "nbformat_minor": 0
}