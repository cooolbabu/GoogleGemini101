{
  "cells": [
    {
      "cell_type": "markdown",
      "metadata": {
        "id": "view-in-github",
        "colab_type": "text"
      },
      "source": [
        "<a href=\"https://colab.research.google.com/github/cooolbabu/GoogleGemini101/blob/main/OpenAI/OpenAI_Assistant_SQL.ipynb\" target=\"_parent\"><img src=\"https://colab.research.google.com/assets/colab-badge.svg\" alt=\"Open In Colab\"/></a>"
      ]
    },
    {
      "cell_type": "markdown",
      "metadata": {
        "id": "bbzGYCzCC7wY"
      },
      "source": [
        "# Installation\n"
      ]
    },
    {
      "cell_type": "code",
      "execution_count": null,
      "metadata": {
        "id": "1nS1SD2pC7wZ"
      },
      "outputs": [],
      "source": [
        "!pip install openai langchain langchain_experimental langchain-openai -q\n",
        "!pip install supabase -q\n",
        "!pip install pyodbc -q"
      ]
    },
    {
      "cell_type": "markdown",
      "source": [
        "## Get API Keys and setup"
      ],
      "metadata": {
        "id": "5T7pw0W2w2BF"
      }
    },
    {
      "cell_type": "code",
      "execution_count": null,
      "metadata": {
        "id": "jXVnzXnDC7wa"
      },
      "outputs": [],
      "source": [
        "from langchain.agents import create_sql_agent\n",
        "from langchain.agents.agent_types import AgentType\n",
        "from langchain.sql_database import SQLDatabase\n",
        "from langchain_openai import OpenAI\n",
        "\n",
        "from langchain_experimental.sql import SQLDatabaseChain\n",
        "from langchain_community.agent_toolkits import SQLDatabaseToolkit\n",
        "\n",
        "from supabase import create_client, Client\n",
        "\n",
        "from sqlalchemy import create_engine\n",
        "\n",
        "import pandas as pd\n",
        "import pyodbc\n",
        "\n",
        "from google.colab import userdata\n",
        "\n",
        "# setup the gemini pro\n",
        "# gemini_llm = ChatGoogleGenerativeAI(model=\"gemini-pro\",temperature=0.3, google_api_key=userdata.get('Gemini_API_Key'))\n",
        "\n",
        "# setup supabase\n",
        "supabase_url = userdata.get('SUPABASE_URL')\n",
        "supabase_key = userdata.get('SUPABASE_KEY')\n",
        "supabase_client = create_client(supabase_url, supabase_key)"
      ]
    },
    {
      "cell_type": "markdown",
      "source": [
        "## Test connection to\n",
        "- Google Gemini\n",
        "- Supabase"
      ],
      "metadata": {
        "id": "RH4MVLWMxJxd"
      }
    },
    {
      "cell_type": "code",
      "source": [
        "\n",
        "\n",
        "response = supabase_client.table('Customer').select(\"*\").execute()\n",
        "\n",
        "## response object has data attribute that contains the result\n",
        "## response.data\n",
        "response_df = pd.DataFrame(response.data)\n",
        "response_df.head(3)\n"
      ],
      "metadata": {
        "id": "jkDq-Myfvbrr"
      },
      "execution_count": null,
      "outputs": []
    },
    {
      "cell_type": "code",
      "source": [],
      "metadata": {
        "id": "5MLSFItQVgVX"
      },
      "execution_count": null,
      "outputs": []
    },
    {
      "cell_type": "code",
      "source": [
        "\n",
        "\n",
        "# Make sure the connection string is a proper string within quotes\n",
        "supabase_conn_str = userdata.get('supabase_conn_str')\n",
        "#supabase_conn_str = \"postgresql+psycopg2://[USERID:PASSWORD]@[HOSTNAME:PORT_NUMBER]/[DATABASE_NAME]\"\n",
        "\n",
        "\n",
        "# Use the connection string with SQLAlchemy's create_engine function\n",
        "db_engine = create_engine(supabase_conn_str)\n",
        "db = SQLDatabase(db_engine)\n",
        "\n",
        "# test the connection\n",
        "print(db.dialect)\n",
        "print(db.get_usable_table_names())\n"
      ],
      "metadata": {
        "id": "YCDWQk3iy1vz"
      },
      "execution_count": null,
      "outputs": []
    }
  ],
  "metadata": {
    "kernelspec": {
      "display_name": "base",
      "language": "python",
      "name": "python3"
    },
    "language_info": {
      "codemirror_mode": {
        "name": "ipython",
        "version": 3
      },
      "file_extension": ".py",
      "mimetype": "text/x-python",
      "name": "python",
      "nbconvert_exporter": "python",
      "pygments_lexer": "ipython3",
      "version": "3.9.13"
    },
    "orig_nbformat": 4,
    "colab": {
      "provenance": [],
      "include_colab_link": true
    }
  },
  "nbformat": 4,
  "nbformat_minor": 0
}