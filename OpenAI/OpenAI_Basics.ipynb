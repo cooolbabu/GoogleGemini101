{
  "nbformat": 4,
  "nbformat_minor": 0,
  "metadata": {
    "colab": {
      "provenance": [],
      "authorship_tag": "ABX9TyMhDaBKvxL5kKp0YaVHAXZ9",
      "include_colab_link": true
    },
    "kernelspec": {
      "name": "python3",
      "display_name": "Python 3"
    },
    "language_info": {
      "name": "python"
    }
  },
  "cells": [
    {
      "cell_type": "markdown",
      "metadata": {
        "id": "view-in-github",
        "colab_type": "text"
      },
      "source": [
        "<a href=\"https://colab.research.google.com/github/cooolbabu/GoogleGemini101/blob/main/OpenAI/OpenAI_Basics.ipynb\" target=\"_parent\"><img src=\"https://colab.research.google.com/assets/colab-badge.svg\" alt=\"Open In Colab\"/></a>"
      ]
    },
    {
      "cell_type": "code",
      "execution_count": 3,
      "metadata": {
        "colab": {
          "base_uri": "https://localhost:8080/"
        },
        "id": "G_U_STSazJWh",
        "outputId": "11744945-ae15-4c6d-c63a-dbf5a84b0d14"
      },
      "outputs": [
        {
          "output_type": "stream",
          "name": "stdout",
          "text": [
            "Requirement already satisfied: openai in /usr/local/lib/python3.10/dist-packages (1.10.0)\n",
            "Requirement already satisfied: anyio<5,>=3.5.0 in /usr/local/lib/python3.10/dist-packages (from openai) (3.7.1)\n",
            "Requirement already satisfied: distro<2,>=1.7.0 in /usr/lib/python3/dist-packages (from openai) (1.7.0)\n",
            "Requirement already satisfied: httpx<1,>=0.23.0 in /usr/local/lib/python3.10/dist-packages (from openai) (0.26.0)\n",
            "Requirement already satisfied: pydantic<3,>=1.9.0 in /usr/local/lib/python3.10/dist-packages (from openai) (1.10.14)\n",
            "Requirement already satisfied: sniffio in /usr/local/lib/python3.10/dist-packages (from openai) (1.3.0)\n",
            "Requirement already satisfied: tqdm>4 in /usr/local/lib/python3.10/dist-packages (from openai) (4.66.1)\n",
            "Requirement already satisfied: typing-extensions<5,>=4.7 in /usr/local/lib/python3.10/dist-packages (from openai) (4.9.0)\n",
            "Requirement already satisfied: idna>=2.8 in /usr/local/lib/python3.10/dist-packages (from anyio<5,>=3.5.0->openai) (3.6)\n",
            "Requirement already satisfied: exceptiongroup in /usr/local/lib/python3.10/dist-packages (from anyio<5,>=3.5.0->openai) (1.2.0)\n",
            "Requirement already satisfied: certifi in /usr/local/lib/python3.10/dist-packages (from httpx<1,>=0.23.0->openai) (2023.11.17)\n",
            "Requirement already satisfied: httpcore==1.* in /usr/local/lib/python3.10/dist-packages (from httpx<1,>=0.23.0->openai) (1.0.2)\n",
            "Requirement already satisfied: h11<0.15,>=0.13 in /usr/local/lib/python3.10/dist-packages (from httpcore==1.*->httpx<1,>=0.23.0->openai) (0.14.0)\n"
          ]
        }
      ],
      "source": [
        "# prompt: install openai\n",
        "\n",
        "!pip install openai\n"
      ]
    },
    {
      "cell_type": "code",
      "source": [
        "# prompt: get openai api key from colab userdata\n",
        "\n",
        "import openai\n",
        "from google.colab import userdata\n",
        "\n",
        "# Get the OpenAI API key from Colab secrets\n",
        "OPENAI_API_KEY = userdata.get(\"OPENAI_API_KEY\")\n"
      ],
      "metadata": {
        "id": "6VUxr_vT00YJ"
      },
      "execution_count": 10,
      "outputs": []
    },
    {
      "cell_type": "code",
      "source": [
        "from openai import OpenAI\n",
        "\n",
        "client = OpenAI(api_key=OPENAI_API_KEY)\n",
        "\n",
        "class ChatBot:\n",
        "    def __init__(self, system=\"\"):\n",
        "        self.system = system\n",
        "        self.messages = []\n",
        "        if self.system:\n",
        "            self.messages.append({\"role\": \"system\", \"content\": system})\n",
        "\n",
        "    def __call__(self, message):\n",
        "        self.messages.append({\"role\": \"user\", \"content\": message})\n",
        "        result = self.execute()\n",
        "        self.messages.append({\"role\": \"assistant\", \"content\": result})\n",
        "        return result\n",
        "\n",
        "    def execute(self):\n",
        "        completion = client.chat.completions.create(model=\"gpt-3.5-turbo\", messages=self.messages)\n",
        "        print(f\"### Completion usage\\n{completion.usage}\\n####\")\n",
        "\n",
        "        ## Chat completions https://platform.openai.com/docs/guides/text-generation/chat-completions-api\n",
        "        return completion.choices[0].message.content\n",
        "\n",
        "def main():\n",
        "    print(\"Welcome to the OpenAI Chatbot!\")\n",
        "\n",
        "    prompt = \"\"\"\n",
        "You are a helpful assistant\n",
        "\"\"\".strip()\n",
        "\n",
        "\n",
        "    bot = ChatBot(prompt)\n",
        "\n",
        "    while True:\n",
        "        user_input = input(\"You: \")\n",
        "\n",
        "        if user_input.lower() in ['exit', 'quit', 'bye']:\n",
        "            print(\"Goodbye!\")\n",
        "            break\n",
        "\n",
        "        # Ask OpenAI based on user input\n",
        "        ai_reply = bot(user_input)\n",
        "        print(f\"AI: {ai_reply}\")\n",
        "\n",
        "if __name__ == \"__main__\":\n",
        "    main()\n"
      ],
      "metadata": {
        "colab": {
          "base_uri": "https://localhost:8080/"
        },
        "id": "DHbUiAyo1PKl",
        "outputId": "ead8e78b-2043-47ae-da9c-bb4142c315ad"
      },
      "execution_count": 13,
      "outputs": [
        {
          "output_type": "stream",
          "name": "stdout",
          "text": [
            "Welcome to the OpenAI Chatbot!\n",
            "You: What is cricket?\n",
            "### Ccompletion usage\n",
            "CompletionUsage(completion_tokens=106, prompt_tokens=20, total_tokens=126)\n",
            "####\n",
            "AI: Cricket is a bat-and-ball game played between two teams of eleven players each on a field. The game originated in England and is widely played in many countries, particularly in the Commonwealth countries. The objective of the game is to score more runs than the opposing team. The team batting tries to score runs by hitting the ball with a bat, while the team bowling tries to get the batsmen out. It's a complex sport with various formats, such as Test cricket, One Day Internationals, and Twenty20 cricket.\n",
            "You: Who won the last World cup?\n",
            "### Ccompletion usage\n",
            "CompletionUsage(completion_tokens=70, prompt_tokens=141, total_tokens=211)\n",
            "####\n",
            "AI: The last Cricket World Cup was held in 2019 and it was won by England. In the final, England defeated New Zealand in a thrilling match that went into a Super Over. England won the match based on the boundary count-back rule after the Super Over also ended in a tie. It was the first time England won the Cricket World Cup.\n",
            "You: Where was it played?\n",
            "### Ccompletion usage\n",
            "CompletionUsage(completion_tokens=39, prompt_tokens=224, total_tokens=263)\n",
            "####\n",
            "AI: The 2019 Cricket World Cup was played in England and Wales. The matches were held at various venues across the two countries. The final match was played at Lord's Cricket Ground in London.\n",
            "You: bye\n",
            "Goodbye!\n"
          ]
        }
      ]
    },
    {
      "cell_type": "markdown",
      "source": [
        "# Notes\n",
        "\n",
        "ChatBot maintains history of the chat and sends it back to OpenAI. As a result, the prompt token count increases with each call.\n",
        "\n",
        "Default prompt is .. you are a helpful assistant. There is no need to mention this."
      ],
      "metadata": {
        "id": "mx9_Gtx1BOQL"
      }
    },
    {
      "cell_type": "code",
      "source": [],
      "metadata": {
        "id": "qYlHYd4BBNRy"
      },
      "execution_count": null,
      "outputs": []
    }
  ]
}